{
  "nbformat": 4,
  "nbformat_minor": 0,
  "metadata": {
    "accelerator": "GPU",
    "colab": {
      "provenance": [],
      "collapsed_sections": []
    },
    "kernelspec": {
      "display_name": "Python 3",
      "name": "python3"
    },
    "language_info": {
      "name": "python"
    },
    "widgets": {
      "application/vnd.jupyter.widget-state+json": {
        "a301b45958b042748bacc940b9ce333f": {
          "model_module": "@jupyter-widgets/controls",
          "model_name": "HBoxModel",
          "state": {
            "_view_name": "HBoxView",
            "_dom_classes": [],
            "_model_name": "HBoxModel",
            "_view_module": "@jupyter-widgets/controls",
            "_model_module_version": "1.5.0",
            "_view_count": null,
            "_view_module_version": "1.5.0",
            "box_style": "",
            "layout": "IPY_MODEL_8c413eeed71f419588adff70fd2606b9",
            "_model_module": "@jupyter-widgets/controls",
            "children": [
              "IPY_MODEL_9fb17e5851344c599a1b3d338b5b0018",
              "IPY_MODEL_00c74dfa893a4f639d1d360466563871"
            ]
          },
          "model_module_version": "1.5.0"
        },
        "8c413eeed71f419588adff70fd2606b9": {
          "model_module": "@jupyter-widgets/base",
          "model_name": "LayoutModel",
          "state": {
            "_view_name": "LayoutView",
            "grid_template_rows": null,
            "right": null,
            "justify_content": null,
            "_view_module": "@jupyter-widgets/base",
            "overflow": null,
            "_model_module_version": "1.2.0",
            "_view_count": null,
            "flex_flow": null,
            "width": null,
            "min_width": null,
            "border": null,
            "align_items": null,
            "bottom": null,
            "_model_module": "@jupyter-widgets/base",
            "top": null,
            "grid_column": null,
            "overflow_y": null,
            "overflow_x": null,
            "grid_auto_flow": null,
            "grid_area": null,
            "grid_template_columns": null,
            "flex": null,
            "_model_name": "LayoutModel",
            "justify_items": null,
            "grid_row": null,
            "max_height": null,
            "align_content": null,
            "visibility": null,
            "align_self": null,
            "height": null,
            "min_height": null,
            "padding": null,
            "grid_auto_rows": null,
            "grid_gap": null,
            "max_width": null,
            "order": null,
            "_view_module_version": "1.2.0",
            "grid_template_areas": null,
            "object_position": null,
            "object_fit": null,
            "grid_auto_columns": null,
            "margin": null,
            "display": null,
            "left": null
          },
          "model_module_version": "1.2.0"
        },
        "9fb17e5851344c599a1b3d338b5b0018": {
          "model_module": "@jupyter-widgets/controls",
          "model_name": "FloatProgressModel",
          "state": {
            "_view_name": "ProgressView",
            "style": "IPY_MODEL_26a8f4010e72401d99561878aa703767",
            "_dom_classes": [],
            "description": "Downloading: 100%",
            "_model_name": "FloatProgressModel",
            "bar_style": "success",
            "max": 995526,
            "_view_module": "@jupyter-widgets/controls",
            "_model_module_version": "1.5.0",
            "value": 995526,
            "_view_count": null,
            "_view_module_version": "1.5.0",
            "orientation": "horizontal",
            "min": 0,
            "description_tooltip": null,
            "_model_module": "@jupyter-widgets/controls",
            "layout": "IPY_MODEL_c5040fd608ef439681cbea5fe239b4e5"
          },
          "model_module_version": "1.5.0"
        },
        "00c74dfa893a4f639d1d360466563871": {
          "model_module": "@jupyter-widgets/controls",
          "model_name": "HTMLModel",
          "state": {
            "_view_name": "HTMLView",
            "style": "IPY_MODEL_543b60d68dda4e2288ae3e8903631184",
            "_dom_classes": [],
            "description": "",
            "_model_name": "HTMLModel",
            "placeholder": "​",
            "_view_module": "@jupyter-widgets/controls",
            "_model_module_version": "1.5.0",
            "value": " 996k/996k [00:02&lt;00:00, 360kB/s]",
            "_view_count": null,
            "_view_module_version": "1.5.0",
            "description_tooltip": null,
            "_model_module": "@jupyter-widgets/controls",
            "layout": "IPY_MODEL_f6db7954d95b4a14aeeb1b173d5eb8fa"
          },
          "model_module_version": "1.5.0"
        },
        "26a8f4010e72401d99561878aa703767": {
          "model_module": "@jupyter-widgets/controls",
          "model_name": "ProgressStyleModel",
          "state": {
            "_view_name": "StyleView",
            "_model_name": "ProgressStyleModel",
            "description_width": "initial",
            "_view_module": "@jupyter-widgets/base",
            "_model_module_version": "1.5.0",
            "_view_count": null,
            "_view_module_version": "1.2.0",
            "bar_color": null,
            "_model_module": "@jupyter-widgets/controls"
          },
          "model_module_version": "1.5.0"
        },
        "c5040fd608ef439681cbea5fe239b4e5": {
          "model_module": "@jupyter-widgets/base",
          "model_name": "LayoutModel",
          "state": {
            "_view_name": "LayoutView",
            "grid_template_rows": null,
            "right": null,
            "justify_content": null,
            "_view_module": "@jupyter-widgets/base",
            "overflow": null,
            "_model_module_version": "1.2.0",
            "_view_count": null,
            "flex_flow": null,
            "width": null,
            "min_width": null,
            "border": null,
            "align_items": null,
            "bottom": null,
            "_model_module": "@jupyter-widgets/base",
            "top": null,
            "grid_column": null,
            "overflow_y": null,
            "overflow_x": null,
            "grid_auto_flow": null,
            "grid_area": null,
            "grid_template_columns": null,
            "flex": null,
            "_model_name": "LayoutModel",
            "justify_items": null,
            "grid_row": null,
            "max_height": null,
            "align_content": null,
            "visibility": null,
            "align_self": null,
            "height": null,
            "min_height": null,
            "padding": null,
            "grid_auto_rows": null,
            "grid_gap": null,
            "max_width": null,
            "order": null,
            "_view_module_version": "1.2.0",
            "grid_template_areas": null,
            "object_position": null,
            "object_fit": null,
            "grid_auto_columns": null,
            "margin": null,
            "display": null,
            "left": null
          },
          "model_module_version": "1.2.0"
        },
        "543b60d68dda4e2288ae3e8903631184": {
          "model_module": "@jupyter-widgets/controls",
          "model_name": "DescriptionStyleModel",
          "state": {
            "_view_name": "StyleView",
            "_model_name": "DescriptionStyleModel",
            "description_width": "",
            "_view_module": "@jupyter-widgets/base",
            "_model_module_version": "1.5.0",
            "_view_count": null,
            "_view_module_version": "1.2.0",
            "_model_module": "@jupyter-widgets/controls"
          },
          "model_module_version": "1.5.0"
        },
        "f6db7954d95b4a14aeeb1b173d5eb8fa": {
          "model_module": "@jupyter-widgets/base",
          "model_name": "LayoutModel",
          "state": {
            "_view_name": "LayoutView",
            "grid_template_rows": null,
            "right": null,
            "justify_content": null,
            "_view_module": "@jupyter-widgets/base",
            "overflow": null,
            "_model_module_version": "1.2.0",
            "_view_count": null,
            "flex_flow": null,
            "width": null,
            "min_width": null,
            "border": null,
            "align_items": null,
            "bottom": null,
            "_model_module": "@jupyter-widgets/base",
            "top": null,
            "grid_column": null,
            "overflow_y": null,
            "overflow_x": null,
            "grid_auto_flow": null,
            "grid_area": null,
            "grid_template_columns": null,
            "flex": null,
            "_model_name": "LayoutModel",
            "justify_items": null,
            "grid_row": null,
            "max_height": null,
            "align_content": null,
            "visibility": null,
            "align_self": null,
            "height": null,
            "min_height": null,
            "padding": null,
            "grid_auto_rows": null,
            "grid_gap": null,
            "max_width": null,
            "order": null,
            "_view_module_version": "1.2.0",
            "grid_template_areas": null,
            "object_position": null,
            "object_fit": null,
            "grid_auto_columns": null,
            "margin": null,
            "display": null,
            "left": null
          },
          "model_module_version": "1.2.0"
        },
        "836d63972773486294ee72869073aa26": {
          "model_module": "@jupyter-widgets/controls",
          "model_name": "HBoxModel",
          "state": {
            "_view_name": "HBoxView",
            "_dom_classes": [],
            "_model_name": "HBoxModel",
            "_view_module": "@jupyter-widgets/controls",
            "_model_module_version": "1.5.0",
            "_view_count": null,
            "_view_module_version": "1.5.0",
            "box_style": "",
            "layout": "IPY_MODEL_2dffb7dacb1949b7b5eed282da9a80b7",
            "_model_module": "@jupyter-widgets/controls",
            "children": [
              "IPY_MODEL_61726908565642bfae7c52d9a7eec6a1",
              "IPY_MODEL_aa39c24b59524e08ba7dcd8e488dfa61"
            ]
          },
          "model_module_version": "1.5.0"
        },
        "2dffb7dacb1949b7b5eed282da9a80b7": {
          "model_module": "@jupyter-widgets/base",
          "model_name": "LayoutModel",
          "state": {
            "_view_name": "LayoutView",
            "grid_template_rows": null,
            "right": null,
            "justify_content": null,
            "_view_module": "@jupyter-widgets/base",
            "overflow": null,
            "_model_module_version": "1.2.0",
            "_view_count": null,
            "flex_flow": null,
            "width": null,
            "min_width": null,
            "border": null,
            "align_items": null,
            "bottom": null,
            "_model_module": "@jupyter-widgets/base",
            "top": null,
            "grid_column": null,
            "overflow_y": null,
            "overflow_x": null,
            "grid_auto_flow": null,
            "grid_area": null,
            "grid_template_columns": null,
            "flex": null,
            "_model_name": "LayoutModel",
            "justify_items": null,
            "grid_row": null,
            "max_height": null,
            "align_content": null,
            "visibility": null,
            "align_self": null,
            "height": null,
            "min_height": null,
            "padding": null,
            "grid_auto_rows": null,
            "grid_gap": null,
            "max_width": null,
            "order": null,
            "_view_module_version": "1.2.0",
            "grid_template_areas": null,
            "object_position": null,
            "object_fit": null,
            "grid_auto_columns": null,
            "margin": null,
            "display": null,
            "left": null
          },
          "model_module_version": "1.2.0"
        },
        "61726908565642bfae7c52d9a7eec6a1": {
          "model_module": "@jupyter-widgets/controls",
          "model_name": "FloatProgressModel",
          "state": {
            "_view_name": "ProgressView",
            "style": "IPY_MODEL_73e30a2b30ad4d949c75d6473e1549a5",
            "_dom_classes": [],
            "description": "Downloading: 100%",
            "_model_name": "FloatProgressModel",
            "bar_style": "success",
            "max": 1961828,
            "_view_module": "@jupyter-widgets/controls",
            "_model_module_version": "1.5.0",
            "value": 1961828,
            "_view_count": null,
            "_view_module_version": "1.5.0",
            "orientation": "horizontal",
            "min": 0,
            "description_tooltip": null,
            "_model_module": "@jupyter-widgets/controls",
            "layout": "IPY_MODEL_d1fb8e66ee0b4cea8d6757087e33a51f"
          },
          "model_module_version": "1.5.0"
        },
        "aa39c24b59524e08ba7dcd8e488dfa61": {
          "model_module": "@jupyter-widgets/controls",
          "model_name": "HTMLModel",
          "state": {
            "_view_name": "HTMLView",
            "style": "IPY_MODEL_12aede75cf8845f7bdb2bacf40c81db2",
            "_dom_classes": [],
            "description": "",
            "_model_name": "HTMLModel",
            "placeholder": "​",
            "_view_module": "@jupyter-widgets/controls",
            "_model_module_version": "1.5.0",
            "value": " 1.96M/1.96M [00:00&lt;00:00, 9.47MB/s]",
            "_view_count": null,
            "_view_module_version": "1.5.0",
            "description_tooltip": null,
            "_model_module": "@jupyter-widgets/controls",
            "layout": "IPY_MODEL_eb04c1b3fba4445fa7bff2519d8227c7"
          },
          "model_module_version": "1.5.0"
        },
        "73e30a2b30ad4d949c75d6473e1549a5": {
          "model_module": "@jupyter-widgets/controls",
          "model_name": "ProgressStyleModel",
          "state": {
            "_view_name": "StyleView",
            "_model_name": "ProgressStyleModel",
            "description_width": "initial",
            "_view_module": "@jupyter-widgets/base",
            "_model_module_version": "1.5.0",
            "_view_count": null,
            "_view_module_version": "1.2.0",
            "bar_color": null,
            "_model_module": "@jupyter-widgets/controls"
          },
          "model_module_version": "1.5.0"
        },
        "d1fb8e66ee0b4cea8d6757087e33a51f": {
          "model_module": "@jupyter-widgets/base",
          "model_name": "LayoutModel",
          "state": {
            "_view_name": "LayoutView",
            "grid_template_rows": null,
            "right": null,
            "justify_content": null,
            "_view_module": "@jupyter-widgets/base",
            "overflow": null,
            "_model_module_version": "1.2.0",
            "_view_count": null,
            "flex_flow": null,
            "width": null,
            "min_width": null,
            "border": null,
            "align_items": null,
            "bottom": null,
            "_model_module": "@jupyter-widgets/base",
            "top": null,
            "grid_column": null,
            "overflow_y": null,
            "overflow_x": null,
            "grid_auto_flow": null,
            "grid_area": null,
            "grid_template_columns": null,
            "flex": null,
            "_model_name": "LayoutModel",
            "justify_items": null,
            "grid_row": null,
            "max_height": null,
            "align_content": null,
            "visibility": null,
            "align_self": null,
            "height": null,
            "min_height": null,
            "padding": null,
            "grid_auto_rows": null,
            "grid_gap": null,
            "max_width": null,
            "order": null,
            "_view_module_version": "1.2.0",
            "grid_template_areas": null,
            "object_position": null,
            "object_fit": null,
            "grid_auto_columns": null,
            "margin": null,
            "display": null,
            "left": null
          },
          "model_module_version": "1.2.0"
        },
        "12aede75cf8845f7bdb2bacf40c81db2": {
          "model_module": "@jupyter-widgets/controls",
          "model_name": "DescriptionStyleModel",
          "state": {
            "_view_name": "StyleView",
            "_model_name": "DescriptionStyleModel",
            "description_width": "",
            "_view_module": "@jupyter-widgets/base",
            "_model_module_version": "1.5.0",
            "_view_count": null,
            "_view_module_version": "1.2.0",
            "_model_module": "@jupyter-widgets/controls"
          },
          "model_module_version": "1.5.0"
        },
        "eb04c1b3fba4445fa7bff2519d8227c7": {
          "model_module": "@jupyter-widgets/base",
          "model_name": "LayoutModel",
          "state": {
            "_view_name": "LayoutView",
            "grid_template_rows": null,
            "right": null,
            "justify_content": null,
            "_view_module": "@jupyter-widgets/base",
            "overflow": null,
            "_model_module_version": "1.2.0",
            "_view_count": null,
            "flex_flow": null,
            "width": null,
            "min_width": null,
            "border": null,
            "align_items": null,
            "bottom": null,
            "_model_module": "@jupyter-widgets/base",
            "top": null,
            "grid_column": null,
            "overflow_y": null,
            "overflow_x": null,
            "grid_auto_flow": null,
            "grid_area": null,
            "grid_template_columns": null,
            "flex": null,
            "_model_name": "LayoutModel",
            "justify_items": null,
            "grid_row": null,
            "max_height": null,
            "align_content": null,
            "visibility": null,
            "align_self": null,
            "height": null,
            "min_height": null,
            "padding": null,
            "grid_auto_rows": null,
            "grid_gap": null,
            "max_width": null,
            "order": null,
            "_view_module_version": "1.2.0",
            "grid_template_areas": null,
            "object_position": null,
            "object_fit": null,
            "grid_auto_columns": null,
            "margin": null,
            "display": null,
            "left": null
          },
          "model_module_version": "1.2.0"
        },
        "a07d124f962d4bd39e04f66c06903900": {
          "model_module": "@jupyter-widgets/controls",
          "model_name": "HBoxModel",
          "state": {
            "_view_name": "HBoxView",
            "_dom_classes": [],
            "_model_name": "HBoxModel",
            "_view_module": "@jupyter-widgets/controls",
            "_model_module_version": "1.5.0",
            "_view_count": null,
            "_view_module_version": "1.5.0",
            "box_style": "",
            "layout": "IPY_MODEL_701a84716d2a478e838275de26d256ed",
            "_model_module": "@jupyter-widgets/controls",
            "children": [
              "IPY_MODEL_7ecc4cfbc905465f844d58c3de450bd3",
              "IPY_MODEL_13f45a747fed4bcdaef579890b9a72b9"
            ]
          },
          "model_module_version": "1.5.0"
        },
        "701a84716d2a478e838275de26d256ed": {
          "model_module": "@jupyter-widgets/base",
          "model_name": "LayoutModel",
          "state": {
            "_view_name": "LayoutView",
            "grid_template_rows": null,
            "right": null,
            "justify_content": null,
            "_view_module": "@jupyter-widgets/base",
            "overflow": null,
            "_model_module_version": "1.2.0",
            "_view_count": null,
            "flex_flow": null,
            "width": null,
            "min_width": null,
            "border": null,
            "align_items": null,
            "bottom": null,
            "_model_module": "@jupyter-widgets/base",
            "top": null,
            "grid_column": null,
            "overflow_y": null,
            "overflow_x": null,
            "grid_auto_flow": null,
            "grid_area": null,
            "grid_template_columns": null,
            "flex": null,
            "_model_name": "LayoutModel",
            "justify_items": null,
            "grid_row": null,
            "max_height": null,
            "align_content": null,
            "visibility": null,
            "align_self": null,
            "height": null,
            "min_height": null,
            "padding": null,
            "grid_auto_rows": null,
            "grid_gap": null,
            "max_width": null,
            "order": null,
            "_view_module_version": "1.2.0",
            "grid_template_areas": null,
            "object_position": null,
            "object_fit": null,
            "grid_auto_columns": null,
            "margin": null,
            "display": null,
            "left": null
          },
          "model_module_version": "1.2.0"
        },
        "7ecc4cfbc905465f844d58c3de450bd3": {
          "model_module": "@jupyter-widgets/controls",
          "model_name": "FloatProgressModel",
          "state": {
            "_view_name": "ProgressView",
            "style": "IPY_MODEL_a98e0a4a51ee4464be2880b95eb8359c",
            "_dom_classes": [],
            "description": "Downloading: 100%",
            "_model_name": "FloatProgressModel",
            "bar_style": "success",
            "max": 29,
            "_view_module": "@jupyter-widgets/controls",
            "_model_module_version": "1.5.0",
            "value": 29,
            "_view_count": null,
            "_view_module_version": "1.5.0",
            "orientation": "horizontal",
            "min": 0,
            "description_tooltip": null,
            "_model_module": "@jupyter-widgets/controls",
            "layout": "IPY_MODEL_e5a4c8a1c9544d409587b8991ad1f0d5"
          },
          "model_module_version": "1.5.0"
        },
        "13f45a747fed4bcdaef579890b9a72b9": {
          "model_module": "@jupyter-widgets/controls",
          "model_name": "HTMLModel",
          "state": {
            "_view_name": "HTMLView",
            "style": "IPY_MODEL_b9a90451f6a34b35becdf299e728eaba",
            "_dom_classes": [],
            "description": "",
            "_model_name": "HTMLModel",
            "placeholder": "​",
            "_view_module": "@jupyter-widgets/controls",
            "_model_module_version": "1.5.0",
            "value": " 29.0/29.0 [00:02&lt;00:00, 12.2B/s]",
            "_view_count": null,
            "_view_module_version": "1.5.0",
            "description_tooltip": null,
            "_model_module": "@jupyter-widgets/controls",
            "layout": "IPY_MODEL_57681e8c7d10472193bd42c7863e47c1"
          },
          "model_module_version": "1.5.0"
        },
        "a98e0a4a51ee4464be2880b95eb8359c": {
          "model_module": "@jupyter-widgets/controls",
          "model_name": "ProgressStyleModel",
          "state": {
            "_view_name": "StyleView",
            "_model_name": "ProgressStyleModel",
            "description_width": "initial",
            "_view_module": "@jupyter-widgets/base",
            "_model_module_version": "1.5.0",
            "_view_count": null,
            "_view_module_version": "1.2.0",
            "bar_color": null,
            "_model_module": "@jupyter-widgets/controls"
          },
          "model_module_version": "1.5.0"
        },
        "e5a4c8a1c9544d409587b8991ad1f0d5": {
          "model_module": "@jupyter-widgets/base",
          "model_name": "LayoutModel",
          "state": {
            "_view_name": "LayoutView",
            "grid_template_rows": null,
            "right": null,
            "justify_content": null,
            "_view_module": "@jupyter-widgets/base",
            "overflow": null,
            "_model_module_version": "1.2.0",
            "_view_count": null,
            "flex_flow": null,
            "width": null,
            "min_width": null,
            "border": null,
            "align_items": null,
            "bottom": null,
            "_model_module": "@jupyter-widgets/base",
            "top": null,
            "grid_column": null,
            "overflow_y": null,
            "overflow_x": null,
            "grid_auto_flow": null,
            "grid_area": null,
            "grid_template_columns": null,
            "flex": null,
            "_model_name": "LayoutModel",
            "justify_items": null,
            "grid_row": null,
            "max_height": null,
            "align_content": null,
            "visibility": null,
            "align_self": null,
            "height": null,
            "min_height": null,
            "padding": null,
            "grid_auto_rows": null,
            "grid_gap": null,
            "max_width": null,
            "order": null,
            "_view_module_version": "1.2.0",
            "grid_template_areas": null,
            "object_position": null,
            "object_fit": null,
            "grid_auto_columns": null,
            "margin": null,
            "display": null,
            "left": null
          },
          "model_module_version": "1.2.0"
        },
        "b9a90451f6a34b35becdf299e728eaba": {
          "model_module": "@jupyter-widgets/controls",
          "model_name": "DescriptionStyleModel",
          "state": {
            "_view_name": "StyleView",
            "_model_name": "DescriptionStyleModel",
            "description_width": "",
            "_view_module": "@jupyter-widgets/base",
            "_model_module_version": "1.5.0",
            "_view_count": null,
            "_view_module_version": "1.2.0",
            "_model_module": "@jupyter-widgets/controls"
          },
          "model_module_version": "1.5.0"
        },
        "57681e8c7d10472193bd42c7863e47c1": {
          "model_module": "@jupyter-widgets/base",
          "model_name": "LayoutModel",
          "state": {
            "_view_name": "LayoutView",
            "grid_template_rows": null,
            "right": null,
            "justify_content": null,
            "_view_module": "@jupyter-widgets/base",
            "overflow": null,
            "_model_module_version": "1.2.0",
            "_view_count": null,
            "flex_flow": null,
            "width": null,
            "min_width": null,
            "border": null,
            "align_items": null,
            "bottom": null,
            "_model_module": "@jupyter-widgets/base",
            "top": null,
            "grid_column": null,
            "overflow_y": null,
            "overflow_x": null,
            "grid_auto_flow": null,
            "grid_area": null,
            "grid_template_columns": null,
            "flex": null,
            "_model_name": "LayoutModel",
            "justify_items": null,
            "grid_row": null,
            "max_height": null,
            "align_content": null,
            "visibility": null,
            "align_self": null,
            "height": null,
            "min_height": null,
            "padding": null,
            "grid_auto_rows": null,
            "grid_gap": null,
            "max_width": null,
            "order": null,
            "_view_module_version": "1.2.0",
            "grid_template_areas": null,
            "object_position": null,
            "object_fit": null,
            "grid_auto_columns": null,
            "margin": null,
            "display": null,
            "left": null
          },
          "model_module_version": "1.2.0"
        },
        "f3de7af8681a4abeac28490a1632aaf6": {
          "model_module": "@jupyter-widgets/controls",
          "model_name": "HBoxModel",
          "state": {
            "_view_name": "HBoxView",
            "_dom_classes": [],
            "_model_name": "HBoxModel",
            "_view_module": "@jupyter-widgets/controls",
            "_model_module_version": "1.5.0",
            "_view_count": null,
            "_view_module_version": "1.5.0",
            "box_style": "",
            "layout": "IPY_MODEL_78ff94da99bb440ba9e18e7610dea645",
            "_model_module": "@jupyter-widgets/controls",
            "children": [
              "IPY_MODEL_7cb3c96f6358435ab9b3c9fdd1e81228",
              "IPY_MODEL_471fab10fa464086ad8abaea9b2a92cc"
            ]
          },
          "model_module_version": "1.5.0"
        },
        "78ff94da99bb440ba9e18e7610dea645": {
          "model_module": "@jupyter-widgets/base",
          "model_name": "LayoutModel",
          "state": {
            "_view_name": "LayoutView",
            "grid_template_rows": null,
            "right": null,
            "justify_content": null,
            "_view_module": "@jupyter-widgets/base",
            "overflow": null,
            "_model_module_version": "1.2.0",
            "_view_count": null,
            "flex_flow": null,
            "width": null,
            "min_width": null,
            "border": null,
            "align_items": null,
            "bottom": null,
            "_model_module": "@jupyter-widgets/base",
            "top": null,
            "grid_column": null,
            "overflow_y": null,
            "overflow_x": null,
            "grid_auto_flow": null,
            "grid_area": null,
            "grid_template_columns": null,
            "flex": null,
            "_model_name": "LayoutModel",
            "justify_items": null,
            "grid_row": null,
            "max_height": null,
            "align_content": null,
            "visibility": null,
            "align_self": null,
            "height": null,
            "min_height": null,
            "padding": null,
            "grid_auto_rows": null,
            "grid_gap": null,
            "max_width": null,
            "order": null,
            "_view_module_version": "1.2.0",
            "grid_template_areas": null,
            "object_position": null,
            "object_fit": null,
            "grid_auto_columns": null,
            "margin": null,
            "display": null,
            "left": null
          },
          "model_module_version": "1.2.0"
        },
        "7cb3c96f6358435ab9b3c9fdd1e81228": {
          "model_module": "@jupyter-widgets/controls",
          "model_name": "FloatProgressModel",
          "state": {
            "_view_name": "ProgressView",
            "style": "IPY_MODEL_2306569be4a14c60b61356427b49058a",
            "_dom_classes": [],
            "description": "Downloading: 100%",
            "_model_name": "FloatProgressModel",
            "bar_style": "success",
            "max": 625,
            "_view_module": "@jupyter-widgets/controls",
            "_model_module_version": "1.5.0",
            "value": 625,
            "_view_count": null,
            "_view_module_version": "1.5.0",
            "orientation": "horizontal",
            "min": 0,
            "description_tooltip": null,
            "_model_module": "@jupyter-widgets/controls",
            "layout": "IPY_MODEL_1e4aa0aa12ec47a3b1e46cf80e8ccb8e"
          },
          "model_module_version": "1.5.0"
        },
        "471fab10fa464086ad8abaea9b2a92cc": {
          "model_module": "@jupyter-widgets/controls",
          "model_name": "HTMLModel",
          "state": {
            "_view_name": "HTMLView",
            "style": "IPY_MODEL_d329821605dc46379145869ced91196b",
            "_dom_classes": [],
            "description": "",
            "_model_name": "HTMLModel",
            "placeholder": "​",
            "_view_module": "@jupyter-widgets/controls",
            "_model_module_version": "1.5.0",
            "value": " 625/625 [00:00&lt;00:00, 2.88kB/s]",
            "_view_count": null,
            "_view_module_version": "1.5.0",
            "description_tooltip": null,
            "_model_module": "@jupyter-widgets/controls",
            "layout": "IPY_MODEL_0980527e499a407eb8eff43a1a5e6568"
          },
          "model_module_version": "1.5.0"
        },
        "2306569be4a14c60b61356427b49058a": {
          "model_module": "@jupyter-widgets/controls",
          "model_name": "ProgressStyleModel",
          "state": {
            "_view_name": "StyleView",
            "_model_name": "ProgressStyleModel",
            "description_width": "initial",
            "_view_module": "@jupyter-widgets/base",
            "_model_module_version": "1.5.0",
            "_view_count": null,
            "_view_module_version": "1.2.0",
            "bar_color": null,
            "_model_module": "@jupyter-widgets/controls"
          },
          "model_module_version": "1.5.0"
        },
        "1e4aa0aa12ec47a3b1e46cf80e8ccb8e": {
          "model_module": "@jupyter-widgets/base",
          "model_name": "LayoutModel",
          "state": {
            "_view_name": "LayoutView",
            "grid_template_rows": null,
            "right": null,
            "justify_content": null,
            "_view_module": "@jupyter-widgets/base",
            "overflow": null,
            "_model_module_version": "1.2.0",
            "_view_count": null,
            "flex_flow": null,
            "width": null,
            "min_width": null,
            "border": null,
            "align_items": null,
            "bottom": null,
            "_model_module": "@jupyter-widgets/base",
            "top": null,
            "grid_column": null,
            "overflow_y": null,
            "overflow_x": null,
            "grid_auto_flow": null,
            "grid_area": null,
            "grid_template_columns": null,
            "flex": null,
            "_model_name": "LayoutModel",
            "justify_items": null,
            "grid_row": null,
            "max_height": null,
            "align_content": null,
            "visibility": null,
            "align_self": null,
            "height": null,
            "min_height": null,
            "padding": null,
            "grid_auto_rows": null,
            "grid_gap": null,
            "max_width": null,
            "order": null,
            "_view_module_version": "1.2.0",
            "grid_template_areas": null,
            "object_position": null,
            "object_fit": null,
            "grid_auto_columns": null,
            "margin": null,
            "display": null,
            "left": null
          },
          "model_module_version": "1.2.0"
        },
        "d329821605dc46379145869ced91196b": {
          "model_module": "@jupyter-widgets/controls",
          "model_name": "DescriptionStyleModel",
          "state": {
            "_view_name": "StyleView",
            "_model_name": "DescriptionStyleModel",
            "description_width": "",
            "_view_module": "@jupyter-widgets/base",
            "_model_module_version": "1.5.0",
            "_view_count": null,
            "_view_module_version": "1.2.0",
            "_model_module": "@jupyter-widgets/controls"
          },
          "model_module_version": "1.5.0"
        },
        "0980527e499a407eb8eff43a1a5e6568": {
          "model_module": "@jupyter-widgets/base",
          "model_name": "LayoutModel",
          "state": {
            "_view_name": "LayoutView",
            "grid_template_rows": null,
            "right": null,
            "justify_content": null,
            "_view_module": "@jupyter-widgets/base",
            "overflow": null,
            "_model_module_version": "1.2.0",
            "_view_count": null,
            "flex_flow": null,
            "width": null,
            "min_width": null,
            "border": null,
            "align_items": null,
            "bottom": null,
            "_model_module": "@jupyter-widgets/base",
            "top": null,
            "grid_column": null,
            "overflow_y": null,
            "overflow_x": null,
            "grid_auto_flow": null,
            "grid_area": null,
            "grid_template_columns": null,
            "flex": null,
            "_model_name": "LayoutModel",
            "justify_items": null,
            "grid_row": null,
            "max_height": null,
            "align_content": null,
            "visibility": null,
            "align_self": null,
            "height": null,
            "min_height": null,
            "padding": null,
            "grid_auto_rows": null,
            "grid_gap": null,
            "max_width": null,
            "order": null,
            "_view_module_version": "1.2.0",
            "grid_template_areas": null,
            "object_position": null,
            "object_fit": null,
            "grid_auto_columns": null,
            "margin": null,
            "display": null,
            "left": null
          },
          "model_module_version": "1.2.0"
        },
        "7c44d90be1ce4a6d95146f7275af8770": {
          "model_module": "@jupyter-widgets/controls",
          "model_name": "HBoxModel",
          "state": {
            "_view_name": "HBoxView",
            "_dom_classes": [],
            "_model_name": "HBoxModel",
            "_view_module": "@jupyter-widgets/controls",
            "_model_module_version": "1.5.0",
            "_view_count": null,
            "_view_module_version": "1.5.0",
            "box_style": "",
            "layout": "IPY_MODEL_70a35cc66f40439980dcaf060fcc0a21",
            "_model_module": "@jupyter-widgets/controls",
            "children": [
              "IPY_MODEL_88b593f9a3fd4dbaaca3aaa17d1d667c",
              "IPY_MODEL_2f0aee512c254c59816f4ffdec8ae3c7"
            ]
          },
          "model_module_version": "1.5.0"
        },
        "70a35cc66f40439980dcaf060fcc0a21": {
          "model_module": "@jupyter-widgets/base",
          "model_name": "LayoutModel",
          "state": {
            "_view_name": "LayoutView",
            "grid_template_rows": null,
            "right": null,
            "justify_content": null,
            "_view_module": "@jupyter-widgets/base",
            "overflow": null,
            "_model_module_version": "1.2.0",
            "_view_count": null,
            "flex_flow": null,
            "width": null,
            "min_width": null,
            "border": null,
            "align_items": null,
            "bottom": null,
            "_model_module": "@jupyter-widgets/base",
            "top": null,
            "grid_column": null,
            "overflow_y": null,
            "overflow_x": null,
            "grid_auto_flow": null,
            "grid_area": null,
            "grid_template_columns": null,
            "flex": null,
            "_model_name": "LayoutModel",
            "justify_items": null,
            "grid_row": null,
            "max_height": null,
            "align_content": null,
            "visibility": null,
            "align_self": null,
            "height": null,
            "min_height": null,
            "padding": null,
            "grid_auto_rows": null,
            "grid_gap": null,
            "max_width": null,
            "order": null,
            "_view_module_version": "1.2.0",
            "grid_template_areas": null,
            "object_position": null,
            "object_fit": null,
            "grid_auto_columns": null,
            "margin": null,
            "display": null,
            "left": null
          },
          "model_module_version": "1.2.0"
        },
        "88b593f9a3fd4dbaaca3aaa17d1d667c": {
          "model_module": "@jupyter-widgets/controls",
          "model_name": "FloatProgressModel",
          "state": {
            "_view_name": "ProgressView",
            "style": "IPY_MODEL_91e394130e5e4841b6ba7d9299b2bfb0",
            "_dom_classes": [],
            "description": "Downloading: 100%",
            "_model_name": "FloatProgressModel",
            "bar_style": "success",
            "max": 714314041,
            "_view_module": "@jupyter-widgets/controls",
            "_model_module_version": "1.5.0",
            "value": 714314041,
            "_view_count": null,
            "_view_module_version": "1.5.0",
            "orientation": "horizontal",
            "min": 0,
            "description_tooltip": null,
            "_model_module": "@jupyter-widgets/controls",
            "layout": "IPY_MODEL_eccd9f916aac4749bc2977982c264aa9"
          },
          "model_module_version": "1.5.0"
        },
        "2f0aee512c254c59816f4ffdec8ae3c7": {
          "model_module": "@jupyter-widgets/controls",
          "model_name": "HTMLModel",
          "state": {
            "_view_name": "HTMLView",
            "style": "IPY_MODEL_f2179701925a4e449cbd675d8ebbc661",
            "_dom_classes": [],
            "description": "",
            "_model_name": "HTMLModel",
            "placeholder": "​",
            "_view_module": "@jupyter-widgets/controls",
            "_model_module_version": "1.5.0",
            "value": " 714M/714M [00:16&lt;00:00, 42.6MB/s]",
            "_view_count": null,
            "_view_module_version": "1.5.0",
            "description_tooltip": null,
            "_model_module": "@jupyter-widgets/controls",
            "layout": "IPY_MODEL_8fff9b785e284ef68281796ef0bac02f"
          },
          "model_module_version": "1.5.0"
        },
        "91e394130e5e4841b6ba7d9299b2bfb0": {
          "model_module": "@jupyter-widgets/controls",
          "model_name": "ProgressStyleModel",
          "state": {
            "_view_name": "StyleView",
            "_model_name": "ProgressStyleModel",
            "description_width": "initial",
            "_view_module": "@jupyter-widgets/base",
            "_model_module_version": "1.5.0",
            "_view_count": null,
            "_view_module_version": "1.2.0",
            "bar_color": null,
            "_model_module": "@jupyter-widgets/controls"
          },
          "model_module_version": "1.5.0"
        },
        "eccd9f916aac4749bc2977982c264aa9": {
          "model_module": "@jupyter-widgets/base",
          "model_name": "LayoutModel",
          "state": {
            "_view_name": "LayoutView",
            "grid_template_rows": null,
            "right": null,
            "justify_content": null,
            "_view_module": "@jupyter-widgets/base",
            "overflow": null,
            "_model_module_version": "1.2.0",
            "_view_count": null,
            "flex_flow": null,
            "width": null,
            "min_width": null,
            "border": null,
            "align_items": null,
            "bottom": null,
            "_model_module": "@jupyter-widgets/base",
            "top": null,
            "grid_column": null,
            "overflow_y": null,
            "overflow_x": null,
            "grid_auto_flow": null,
            "grid_area": null,
            "grid_template_columns": null,
            "flex": null,
            "_model_name": "LayoutModel",
            "justify_items": null,
            "grid_row": null,
            "max_height": null,
            "align_content": null,
            "visibility": null,
            "align_self": null,
            "height": null,
            "min_height": null,
            "padding": null,
            "grid_auto_rows": null,
            "grid_gap": null,
            "max_width": null,
            "order": null,
            "_view_module_version": "1.2.0",
            "grid_template_areas": null,
            "object_position": null,
            "object_fit": null,
            "grid_auto_columns": null,
            "margin": null,
            "display": null,
            "left": null
          },
          "model_module_version": "1.2.0"
        },
        "f2179701925a4e449cbd675d8ebbc661": {
          "model_module": "@jupyter-widgets/controls",
          "model_name": "DescriptionStyleModel",
          "state": {
            "_view_name": "StyleView",
            "_model_name": "DescriptionStyleModel",
            "description_width": "",
            "_view_module": "@jupyter-widgets/base",
            "_model_module_version": "1.5.0",
            "_view_count": null,
            "_view_module_version": "1.2.0",
            "_model_module": "@jupyter-widgets/controls"
          },
          "model_module_version": "1.5.0"
        },
        "8fff9b785e284ef68281796ef0bac02f": {
          "model_module": "@jupyter-widgets/base",
          "model_name": "LayoutModel",
          "state": {
            "_view_name": "LayoutView",
            "grid_template_rows": null,
            "right": null,
            "justify_content": null,
            "_view_module": "@jupyter-widgets/base",
            "overflow": null,
            "_model_module_version": "1.2.0",
            "_view_count": null,
            "flex_flow": null,
            "width": null,
            "min_width": null,
            "border": null,
            "align_items": null,
            "bottom": null,
            "_model_module": "@jupyter-widgets/base",
            "top": null,
            "grid_column": null,
            "overflow_y": null,
            "overflow_x": null,
            "grid_auto_flow": null,
            "grid_area": null,
            "grid_template_columns": null,
            "flex": null,
            "_model_name": "LayoutModel",
            "justify_items": null,
            "grid_row": null,
            "max_height": null,
            "align_content": null,
            "visibility": null,
            "align_self": null,
            "height": null,
            "min_height": null,
            "padding": null,
            "grid_auto_rows": null,
            "grid_gap": null,
            "max_width": null,
            "order": null,
            "_view_module_version": "1.2.0",
            "grid_template_areas": null,
            "object_position": null,
            "object_fit": null,
            "grid_auto_columns": null,
            "margin": null,
            "display": null,
            "left": null
          },
          "model_module_version": "1.2.0"
        },
        "319475c8faed49b99f70acec9a2c7093": {
          "model_module": "@jupyter-widgets/controls",
          "model_name": "HBoxModel",
          "state": {
            "_view_name": "HBoxView",
            "_dom_classes": [],
            "_model_name": "HBoxModel",
            "_view_module": "@jupyter-widgets/controls",
            "_model_module_version": "1.5.0",
            "_view_count": null,
            "_view_module_version": "1.5.0",
            "box_style": "",
            "layout": "IPY_MODEL_3a78e8c9f5da40b1aa63915ae51b317e",
            "_model_module": "@jupyter-widgets/controls",
            "children": [
              "IPY_MODEL_3ff4b3101abc45578a5efd7b23fa7a78",
              "IPY_MODEL_e6bfb1719651492d8497b7fa0f8394c5"
            ]
          },
          "model_module_version": "1.5.0"
        },
        "3a78e8c9f5da40b1aa63915ae51b317e": {
          "model_module": "@jupyter-widgets/base",
          "model_name": "LayoutModel",
          "state": {
            "_view_name": "LayoutView",
            "grid_template_rows": null,
            "right": null,
            "justify_content": null,
            "_view_module": "@jupyter-widgets/base",
            "overflow": null,
            "_model_module_version": "1.2.0",
            "_view_count": null,
            "flex_flow": null,
            "width": null,
            "min_width": null,
            "border": null,
            "align_items": null,
            "bottom": null,
            "_model_module": "@jupyter-widgets/base",
            "top": null,
            "grid_column": null,
            "overflow_y": null,
            "overflow_x": null,
            "grid_auto_flow": null,
            "grid_area": null,
            "grid_template_columns": null,
            "flex": null,
            "_model_name": "LayoutModel",
            "justify_items": null,
            "grid_row": null,
            "max_height": null,
            "align_content": null,
            "visibility": null,
            "align_self": null,
            "height": null,
            "min_height": null,
            "padding": null,
            "grid_auto_rows": null,
            "grid_gap": null,
            "max_width": null,
            "order": null,
            "_view_module_version": "1.2.0",
            "grid_template_areas": null,
            "object_position": null,
            "object_fit": null,
            "grid_auto_columns": null,
            "margin": null,
            "display": null,
            "left": null
          },
          "model_module_version": "1.2.0"
        },
        "3ff4b3101abc45578a5efd7b23fa7a78": {
          "model_module": "@jupyter-widgets/controls",
          "model_name": "FloatProgressModel",
          "state": {
            "_view_name": "ProgressView",
            "style": "IPY_MODEL_c745e7603e754c2e99d443f735a568a2",
            "_dom_classes": [],
            "description": "100%",
            "_model_name": "FloatProgressModel",
            "bar_style": "",
            "max": 8835,
            "_view_module": "@jupyter-widgets/controls",
            "_model_module_version": "1.5.0",
            "value": 8835,
            "_view_count": null,
            "_view_module_version": "1.5.0",
            "orientation": "horizontal",
            "min": 0,
            "description_tooltip": null,
            "_model_module": "@jupyter-widgets/controls",
            "layout": "IPY_MODEL_1fe317472a204d43a594d046e9d1f52e"
          },
          "model_module_version": "1.5.0"
        },
        "e6bfb1719651492d8497b7fa0f8394c5": {
          "model_module": "@jupyter-widgets/controls",
          "model_name": "HTMLModel",
          "state": {
            "_view_name": "HTMLView",
            "style": "IPY_MODEL_e6aa4ea0369b49fc8844ccd4f5b9919b",
            "_dom_classes": [],
            "description": "",
            "_model_name": "HTMLModel",
            "placeholder": "​",
            "_view_module": "@jupyter-widgets/controls",
            "_model_module_version": "1.5.0",
            "value": " 8835/8835 [2:11:14&lt;00:00,  1.43it/s]",
            "_view_count": null,
            "_view_module_version": "1.5.0",
            "description_tooltip": null,
            "_model_module": "@jupyter-widgets/controls",
            "layout": "IPY_MODEL_1197b283064a447cb2ea68b21bc649a3"
          },
          "model_module_version": "1.5.0"
        },
        "c745e7603e754c2e99d443f735a568a2": {
          "model_module": "@jupyter-widgets/controls",
          "model_name": "ProgressStyleModel",
          "state": {
            "_view_name": "StyleView",
            "_model_name": "ProgressStyleModel",
            "description_width": "initial",
            "_view_module": "@jupyter-widgets/base",
            "_model_module_version": "1.5.0",
            "_view_count": null,
            "_view_module_version": "1.2.0",
            "bar_color": null,
            "_model_module": "@jupyter-widgets/controls"
          },
          "model_module_version": "1.5.0"
        },
        "1fe317472a204d43a594d046e9d1f52e": {
          "model_module": "@jupyter-widgets/base",
          "model_name": "LayoutModel",
          "state": {
            "_view_name": "LayoutView",
            "grid_template_rows": null,
            "right": null,
            "justify_content": null,
            "_view_module": "@jupyter-widgets/base",
            "overflow": null,
            "_model_module_version": "1.2.0",
            "_view_count": null,
            "flex_flow": null,
            "width": null,
            "min_width": null,
            "border": null,
            "align_items": null,
            "bottom": null,
            "_model_module": "@jupyter-widgets/base",
            "top": null,
            "grid_column": null,
            "overflow_y": null,
            "overflow_x": null,
            "grid_auto_flow": null,
            "grid_area": null,
            "grid_template_columns": null,
            "flex": null,
            "_model_name": "LayoutModel",
            "justify_items": null,
            "grid_row": null,
            "max_height": null,
            "align_content": null,
            "visibility": null,
            "align_self": null,
            "height": null,
            "min_height": null,
            "padding": null,
            "grid_auto_rows": null,
            "grid_gap": null,
            "max_width": null,
            "order": null,
            "_view_module_version": "1.2.0",
            "grid_template_areas": null,
            "object_position": null,
            "object_fit": null,
            "grid_auto_columns": null,
            "margin": null,
            "display": null,
            "left": null
          },
          "model_module_version": "1.2.0"
        },
        "e6aa4ea0369b49fc8844ccd4f5b9919b": {
          "model_module": "@jupyter-widgets/controls",
          "model_name": "DescriptionStyleModel",
          "state": {
            "_view_name": "StyleView",
            "_model_name": "DescriptionStyleModel",
            "description_width": "",
            "_view_module": "@jupyter-widgets/base",
            "_model_module_version": "1.5.0",
            "_view_count": null,
            "_view_module_version": "1.2.0",
            "_model_module": "@jupyter-widgets/controls"
          },
          "model_module_version": "1.5.0"
        },
        "1197b283064a447cb2ea68b21bc649a3": {
          "model_module": "@jupyter-widgets/base",
          "model_name": "LayoutModel",
          "state": {
            "_view_name": "LayoutView",
            "grid_template_rows": null,
            "right": null,
            "justify_content": null,
            "_view_module": "@jupyter-widgets/base",
            "overflow": null,
            "_model_module_version": "1.2.0",
            "_view_count": null,
            "flex_flow": null,
            "width": null,
            "min_width": null,
            "border": null,
            "align_items": null,
            "bottom": null,
            "_model_module": "@jupyter-widgets/base",
            "top": null,
            "grid_column": null,
            "overflow_y": null,
            "overflow_x": null,
            "grid_auto_flow": null,
            "grid_area": null,
            "grid_template_columns": null,
            "flex": null,
            "_model_name": "LayoutModel",
            "justify_items": null,
            "grid_row": null,
            "max_height": null,
            "align_content": null,
            "visibility": null,
            "align_self": null,
            "height": null,
            "min_height": null,
            "padding": null,
            "grid_auto_rows": null,
            "grid_gap": null,
            "max_width": null,
            "order": null,
            "_view_module_version": "1.2.0",
            "grid_template_areas": null,
            "object_position": null,
            "object_fit": null,
            "grid_auto_columns": null,
            "margin": null,
            "display": null,
            "left": null
          },
          "model_module_version": "1.2.0"
        }
      }
    }
  },
  "cells": [
    {
      "cell_type": "markdown",
      "metadata": {
        "id": "W5p1_a-Qbc1O"
      },
      "source": [
        "# Imports"
      ]
    },
    {
      "cell_type": "code",
      "metadata": {
        "id": "6QwpJ1nfVx6Z",
        "colab": {
          "base_uri": "https://localhost:8080/"
        },
        "outputId": "39da97cf-6e15-4e9e-f33a-9a12b79165f2"
      },
      "source": [
        "!pip install transformers"
      ],
      "execution_count": null,
      "outputs": [
        {
          "output_type": "stream",
          "text": [
            "Collecting transformers\n",
            "  Downloading transformers-4.8.2-py3-none-any.whl (2.5 MB)\n",
            "\u001b[K     |████████████████████████████████| 2.5 MB 34.4 MB/s \n",
            "\u001b[?25hRequirement already satisfied: regex!=2019.12.17 in /usr/local/lib/python3.7/dist-packages (from transformers) (2019.12.20)\n",
            "Requirement already satisfied: requests in /usr/local/lib/python3.7/dist-packages (from transformers) (2.23.0)\n",
            "Requirement already satisfied: pyyaml in /usr/local/lib/python3.7/dist-packages (from transformers) (3.13)\n",
            "Requirement already satisfied: numpy>=1.17 in /usr/local/lib/python3.7/dist-packages (from transformers) (1.19.5)\n",
            "Requirement already satisfied: tqdm>=4.27 in /usr/local/lib/python3.7/dist-packages (from transformers) (4.41.1)\n",
            "Requirement already satisfied: packaging in /usr/local/lib/python3.7/dist-packages (from transformers) (21.0)\n",
            "Collecting sacremoses\n",
            "  Downloading sacremoses-0.0.45-py3-none-any.whl (895 kB)\n",
            "\u001b[K     |████████████████████████████████| 895 kB 45.8 MB/s \n",
            "\u001b[?25hRequirement already satisfied: filelock in /usr/local/lib/python3.7/dist-packages (from transformers) (3.0.12)\n",
            "Collecting huggingface-hub==0.0.12\n",
            "  Downloading huggingface_hub-0.0.12-py3-none-any.whl (37 kB)\n",
            "Collecting tokenizers<0.11,>=0.10.1\n",
            "  Downloading tokenizers-0.10.3-cp37-cp37m-manylinux_2_5_x86_64.manylinux1_x86_64.manylinux_2_12_x86_64.manylinux2010_x86_64.whl (3.3 MB)\n",
            "\u001b[K     |████████████████████████████████| 3.3 MB 39.9 MB/s \n",
            "\u001b[?25hRequirement already satisfied: importlib-metadata in /usr/local/lib/python3.7/dist-packages (from transformers) (4.6.1)\n",
            "Requirement already satisfied: typing-extensions in /usr/local/lib/python3.7/dist-packages (from huggingface-hub==0.0.12->transformers) (3.7.4.3)\n",
            "Requirement already satisfied: pyparsing>=2.0.2 in /usr/local/lib/python3.7/dist-packages (from packaging->transformers) (2.4.7)\n",
            "Requirement already satisfied: zipp>=0.5 in /usr/local/lib/python3.7/dist-packages (from importlib-metadata->transformers) (3.5.0)\n",
            "Requirement already satisfied: idna<3,>=2.5 in /usr/local/lib/python3.7/dist-packages (from requests->transformers) (2.10)\n",
            "Requirement already satisfied: certifi>=2017.4.17 in /usr/local/lib/python3.7/dist-packages (from requests->transformers) (2021.5.30)\n",
            "Requirement already satisfied: urllib3!=1.25.0,!=1.25.1,<1.26,>=1.21.1 in /usr/local/lib/python3.7/dist-packages (from requests->transformers) (1.24.3)\n",
            "Requirement already satisfied: chardet<4,>=3.0.2 in /usr/local/lib/python3.7/dist-packages (from requests->transformers) (3.0.4)\n",
            "Requirement already satisfied: click in /usr/local/lib/python3.7/dist-packages (from sacremoses->transformers) (7.1.2)\n",
            "Requirement already satisfied: six in /usr/local/lib/python3.7/dist-packages (from sacremoses->transformers) (1.15.0)\n",
            "Requirement already satisfied: joblib in /usr/local/lib/python3.7/dist-packages (from sacremoses->transformers) (1.0.1)\n",
            "Installing collected packages: tokenizers, sacremoses, huggingface-hub, transformers\n",
            "Successfully installed huggingface-hub-0.0.12 sacremoses-0.0.45 tokenizers-0.10.3 transformers-4.8.2\n"
          ],
          "name": "stdout"
        }
      ]
    },
    {
      "cell_type": "code",
      "metadata": {
        "id": "LTgakr4hZKqD"
      },
      "source": [
        "import matplotlib.pyplot as plt\n",
        " \n",
        "import pickle\n",
        " \n",
        "from sklearn.model_selection import KFold\n",
        "import gc\n",
        "import numpy as np\n",
        "#import keras.backend as K\n",
        " \n",
        "import numpy as np\n",
        "import pandas as pd\n",
        "import seaborn as sb\n",
        "import math\n",
        " \n",
        "import os\n",
        "import re\n",
        "import glob\n",
        " \n",
        "import tensorflow as tf\n",
        "from tqdm.notebook import tqdm\n",
        " \n",
        "import torch\n",
        "from torch.utils.data import DataLoader"
      ],
      "execution_count": null,
      "outputs": []
    },
    {
      "cell_type": "code",
      "metadata": {
        "colab": {
          "base_uri": "https://localhost:8080/"
        },
        "id": "mpEsRSaxbjb3",
        "outputId": "ffaae472-b909-458d-cc54-716747fb1be9"
      },
      "source": [
        "from google.colab import drive\n",
        "drive.mount('/content/drive')"
      ],
      "execution_count": null,
      "outputs": [
        {
          "output_type": "stream",
          "text": [
            "Mounted at /content/drive\n"
          ],
          "name": "stdout"
        }
      ]
    },
    {
      "cell_type": "markdown",
      "metadata": {
        "id": "ZL1rB9uyb9PP"
      },
      "source": [
        "#Data loading"
      ]
    },
    {
      "cell_type": "markdown",
      "metadata": {
        "id": "Lb7zUBNPs5hd"
      },
      "source": [
        "Regular dataloading. **Do not** use \"engine\" or \"encoding\" paramteres if those weren't used to create the csv files."
      ]
    },
    {
      "cell_type": "code",
      "metadata": {
        "id": "9zCh_zgiMcad"
      },
      "source": [
        "train_path = r'/content/drive/MyDrive/FakeNews/FakeNewsDetection Dataset/Stratified K Fold/Training Set'\n",
        "test_path = r'/content/drive/MyDrive/FakeNews/FakeNewsDetection Dataset/Stratified K Fold/Test Set'\n",
        "all_train_files = glob.glob(train_path + \"/*.csv\")\n",
        "all_test_files = glob.glob(test_path + \"/*.csv\")"
      ],
      "execution_count": null,
      "outputs": []
    },
    {
      "cell_type": "code",
      "metadata": {
        "id": "dA4FO5g4NRo4"
      },
      "source": [
        "INDEX = 9\n",
        "Model_name = \"Bert\"\n",
        "# rootPath =  r'/content/drive/MyDrive/SMOTE Results/' +Model_name+ '/Run 1/'\n",
        "rootPath =  r'/content/drive/MyDrive/FakeNews/SMOTE Results/' +Model_name+ '/Run 1/' #Navid's drive\n"
      ],
      "execution_count": null,
      "outputs": []
    },
    {
      "cell_type": "code",
      "metadata": {
        "id": "hQ7sVJX8NRJw",
        "colab": {
          "base_uri": "https://localhost:8080/"
        },
        "outputId": "263a58c5-9ca8-43ad-fef0-92de3ea2b488"
      },
      "source": [
        "df = pd.read_csv(all_train_files[INDEX],encoding='utf-8')\n",
        "print(df['Label'].count())\n",
        "\n",
        "df1 = pd.read_csv(all_test_files[INDEX],encoding='utf-8')\n",
        "print(df1['Label'].count())"
      ],
      "execution_count": null,
      "outputs": [
        {
          "output_type": "stream",
          "text": [
            "2869\n",
            "318\n"
          ],
          "name": "stdout"
        }
      ]
    },
    {
      "cell_type": "code",
      "metadata": {
        "id": "2rak8HbEGfQg"
      },
      "source": [
        "# # Detect hardware, return appropriate distribution strategy\n",
        "# try:\n",
        "#     # TPU detection. No parameters necessary if TPU_NAME environment variable is\n",
        "#     # set: this is always the case on Kaggle.\n",
        "#     tpu = tf.distribute.cluster_resolver.TPUClusterResolver()\n",
        "#     print('Running on TPU ', tpu.master())\n",
        "# except ValueError:\n",
        "#     tpu = None\n",
        "\n",
        "# if tpu:\n",
        "#     tf.config.experimental_connect_to_cluster(tpu)\n",
        "#     tf.tpu.experimental.initialize_tpu_system(tpu)\n",
        "#     strategy = tf.distribute.experimental.TPUStrategy(tpu)\n",
        "# else:\n",
        "#     # Default distribution strategy in Tensorflow. Works on CPU and single GPU.\n",
        "#     strategy = tf.distribute.get_strategy()\n",
        "\n",
        "# print(\"REPLICAS: \", strategy.num_replicas_in_sync)\n",
        "#!pip install cloud-tpu-client==0.10 https://storage.googleapis.com/tpu-pytorch/wheels/torch_xla-1.9-cp37-cp37m-linux_x86_64.whl"
      ],
      "execution_count": null,
      "outputs": []
    },
    {
      "cell_type": "code",
      "metadata": {
        "id": "Nfr56T7CItpX"
      },
      "source": [
        "# if False:\n",
        "#   import torch_xla\n",
        "#   import torch_xla.core.xla_model as xm"
      ],
      "execution_count": null,
      "outputs": []
    },
    {
      "cell_type": "markdown",
      "metadata": {
        "id": "FaMXR1qktZGA"
      },
      "source": [
        "Here, data has been split. Ofc this wouldn't be needed. After loading the csv files, this is where code for stratification will go, ergo, the dataset will be split into k-fold right here. The following chunk of code can be replaced.\n",
        "\n",
        "**The dataframes must be converted to lists. Because the tokenizer expects them to be in a python-list format.**"
      ]
    },
    {
      "cell_type": "code",
      "metadata": {
        "id": "cMur7eTAZeMX"
      },
      "source": [
        "train_texts=[]\n",
        "train_labels= []\n",
        "test_texts=[]\n",
        "test_labels = []\n",
        "for i in range(0, len(all_train_files)):\n",
        "  train_file = pd.read_csv(all_train_files[i],encoding='utf-8')\n",
        "  test_file = pd.read_csv(all_test_files[i],encoding='utf-8')\n",
        "  train_texts.append(train_file['Description'].tolist())\n",
        "  train_labels.append(train_file['Label'].tolist())\n",
        "  test_texts.append(test_file['Description'].tolist())\n",
        "  test_labels.append(test_file['Label'].tolist())"
      ],
      "execution_count": null,
      "outputs": []
    },
    {
      "cell_type": "code",
      "metadata": {
        "colab": {
          "base_uri": "https://localhost:8080/"
        },
        "id": "V_Rk3KT2xWWQ",
        "outputId": "708e29e0-1cbe-4cd8-b4a4-b12221969e62"
      },
      "source": [
        "print(len(train_texts[INDEX]))\n",
        "print(len(test_texts[INDEX]))\n",
        "print(len(train_labels[INDEX]))\n",
        "print(len(test_labels[INDEX]))"
      ],
      "execution_count": null,
      "outputs": [
        {
          "output_type": "stream",
          "text": [
            "2869\n",
            "318\n",
            "2869\n",
            "318\n"
          ],
          "name": "stdout"
        }
      ]
    },
    {
      "cell_type": "markdown",
      "metadata": {
        "id": "ptFVFDQWtuGt"
      },
      "source": [
        "# Generating Embedding "
      ]
    },
    {
      "cell_type": "markdown",
      "metadata": {
        "id": "d8gxGs1quPs7"
      },
      "source": [
        "Tokenizer is being loaded. It is recommended that we use the tokenizer corresponding to the model we would use for both embedding generation and classfication."
      ]
    },
    {
      "cell_type": "code",
      "metadata": {
        "id": "QD0Fc9b3cxpC",
        "colab": {
          "base_uri": "https://localhost:8080/",
          "height": 163,
          "referenced_widgets": [
            "a301b45958b042748bacc940b9ce333f",
            "8c413eeed71f419588adff70fd2606b9",
            "9fb17e5851344c599a1b3d338b5b0018",
            "00c74dfa893a4f639d1d360466563871",
            "26a8f4010e72401d99561878aa703767",
            "c5040fd608ef439681cbea5fe239b4e5",
            "543b60d68dda4e2288ae3e8903631184",
            "f6db7954d95b4a14aeeb1b173d5eb8fa",
            "836d63972773486294ee72869073aa26",
            "2dffb7dacb1949b7b5eed282da9a80b7",
            "61726908565642bfae7c52d9a7eec6a1",
            "aa39c24b59524e08ba7dcd8e488dfa61",
            "73e30a2b30ad4d949c75d6473e1549a5",
            "d1fb8e66ee0b4cea8d6757087e33a51f",
            "12aede75cf8845f7bdb2bacf40c81db2",
            "eb04c1b3fba4445fa7bff2519d8227c7",
            "a07d124f962d4bd39e04f66c06903900",
            "701a84716d2a478e838275de26d256ed",
            "7ecc4cfbc905465f844d58c3de450bd3",
            "13f45a747fed4bcdaef579890b9a72b9",
            "a98e0a4a51ee4464be2880b95eb8359c",
            "e5a4c8a1c9544d409587b8991ad1f0d5",
            "b9a90451f6a34b35becdf299e728eaba",
            "57681e8c7d10472193bd42c7863e47c1"
          ]
        },
        "outputId": "72da6802-3470-47da-c720-0f5fb0c28992"
      },
      "source": [
        "from transformers import BertTokenizerFast, BertTokenizer\n",
        "tokenizer = BertTokenizerFast.from_pretrained('bert-base-multilingual-cased')\n",
        "\n",
        "train_encodings = tokenizer(train_texts[INDEX], truncation=True, padding='max_length' ,return_tensors=\"pt\")\n",
        "test_encodings = tokenizer(test_texts[INDEX], truncation=True, padding='max_length' ,return_tensors=\"pt\")\n",
        "\n"
      ],
      "execution_count": null,
      "outputs": [
        {
          "output_type": "display_data",
          "data": {
            "application/vnd.jupyter.widget-view+json": {
              "model_id": "a301b45958b042748bacc940b9ce333f",
              "version_minor": 0,
              "version_major": 2
            },
            "text/plain": [
              "HBox(children=(FloatProgress(value=0.0, description='Downloading', max=995526.0, style=ProgressStyle(descripti…"
            ]
          },
          "metadata": {
            "tags": []
          }
        },
        {
          "output_type": "stream",
          "text": [
            "\n"
          ],
          "name": "stdout"
        },
        {
          "output_type": "display_data",
          "data": {
            "application/vnd.jupyter.widget-view+json": {
              "model_id": "836d63972773486294ee72869073aa26",
              "version_minor": 0,
              "version_major": 2
            },
            "text/plain": [
              "HBox(children=(FloatProgress(value=0.0, description='Downloading', max=1961828.0, style=ProgressStyle(descript…"
            ]
          },
          "metadata": {
            "tags": []
          }
        },
        {
          "output_type": "stream",
          "text": [
            "\n"
          ],
          "name": "stdout"
        },
        {
          "output_type": "display_data",
          "data": {
            "application/vnd.jupyter.widget-view+json": {
              "model_id": "a07d124f962d4bd39e04f66c06903900",
              "version_minor": 0,
              "version_major": 2
            },
            "text/plain": [
              "HBox(children=(FloatProgress(value=0.0, description='Downloading', max=29.0, style=ProgressStyle(description_w…"
            ]
          },
          "metadata": {
            "tags": []
          }
        },
        {
          "output_type": "stream",
          "text": [
            "\n"
          ],
          "name": "stdout"
        }
      ]
    },
    {
      "cell_type": "markdown",
      "metadata": {
        "id": "AMdoAZboueYh"
      },
      "source": [
        "All the texts in all the sets will tokenized here. These encodings simply refer to tokens."
      ]
    },
    {
      "cell_type": "code",
      "metadata": {
        "id": "UN42AOrudpFz"
      },
      "source": [
        "# if False:\n",
        "#   train_encodings=[]\n",
        "#   test_encodings=[]\n",
        "#   for i in range(0,len(train_texts)):\n",
        "#     train_encodings.append(tokenizer(train_texts[i], truncation=True, padding='max_length' ,return_tensors=\"pt\"))\n",
        "#     # val_encodings = tokenizer(val_texts, truncation=True, padding='max_length' ,return_tensors=\"pt\")\n",
        "#     test_encodings.append(tokenizer(test_texts[i], truncation=True, padding='max_length' ,return_tensors=\"pt\"))"
      ],
      "execution_count": null,
      "outputs": []
    },
    {
      "cell_type": "code",
      "metadata": {
        "id": "IKrCbHnC0gYq"
      },
      "source": [
        "# if False:\n",
        "#   print(\"train encodings length: \",len(train_encodings))\n",
        "#   print(test_encodings['input_ids'][0])\n",
        "#   # # print(\"val_encodings length: \",len(val_encodings))\n",
        "#   # print(\"test_encodings length: \",len(test_encodings[0])) "
      ],
      "execution_count": null,
      "outputs": []
    },
    {
      "cell_type": "markdown",
      "metadata": {
        "id": "p7GqbTjLu13H"
      },
      "source": [
        "You can run this for sanity check. Especially, the function tokenizer_decode(), decodes the tokens back to a whole sentence. Decoding has been done for one set (corresponding to one sentence) of tokens."
      ]
    },
    {
      "cell_type": "code",
      "metadata": {
        "id": "7Eomuuai50Bf"
      },
      "source": [
        "# if False:\n",
        "#   # print(train_encodings)\n",
        "#   print(train_encodings[0].ids,\"\\n\",train_encodings[0].ids.count(0))\n",
        "#   # print(train_encodings[0].type_ids) # whole bunch of zeros\n",
        "#   print(train_encodings[0].tokens)\n",
        "#   print(train_encodings[0].attention_mask,\"\\n\",train_encodings[0].attention_mask.count(0))\n",
        "#   print(train_encodings[0].special_tokens_mask,\"\\n\",train_encodings[0].special_tokens_mask.count(1))\n",
        "#   print(tokenizer.decode(train_encodings[0].ids))"
      ],
      "execution_count": null,
      "outputs": []
    },
    {
      "cell_type": "code",
      "metadata": {
        "id": "PaAHZKXUkJN_"
      },
      "source": [
        "# #clears RAM\n",
        "# if False:\n",
        "#   torch.cuda.empty_cache()\n",
        "  "
      ],
      "execution_count": null,
      "outputs": []
    },
    {
      "cell_type": "markdown",
      "metadata": {
        "id": "pVXOuCJgwMXK"
      },
      "source": [
        "The following model is loaded to create embeddings from the **train dataset only**. "
      ]
    },
    {
      "cell_type": "code",
      "metadata": {
        "colab": {
          "base_uri": "https://localhost:8080/",
          "height": 185,
          "referenced_widgets": [
            "f3de7af8681a4abeac28490a1632aaf6",
            "78ff94da99bb440ba9e18e7610dea645",
            "7cb3c96f6358435ab9b3c9fdd1e81228",
            "471fab10fa464086ad8abaea9b2a92cc",
            "2306569be4a14c60b61356427b49058a",
            "1e4aa0aa12ec47a3b1e46cf80e8ccb8e",
            "d329821605dc46379145869ced91196b",
            "0980527e499a407eb8eff43a1a5e6568",
            "7c44d90be1ce4a6d95146f7275af8770",
            "70a35cc66f40439980dcaf060fcc0a21",
            "88b593f9a3fd4dbaaca3aaa17d1d667c",
            "2f0aee512c254c59816f4ffdec8ae3c7",
            "91e394130e5e4841b6ba7d9299b2bfb0",
            "eccd9f916aac4749bc2977982c264aa9",
            "f2179701925a4e449cbd675d8ebbc661",
            "8fff9b785e284ef68281796ef0bac02f"
          ]
        },
        "id": "OS-mL7hUqkiU",
        "outputId": "daa911ea-3271-492f-e1a3-ef9c770bbb47"
      },
      "source": [
        "from transformers import BertModel\n",
        "model = BertModel.from_pretrained('bert-base-multilingual-cased',output_hidden_states=True)\n",
        "\n",
        "\n",
        "class FakeNewsEmbeddingDataset(torch.utils.data.Dataset):\n",
        "    def __init__(self, encodings):\n",
        "        self.encodings = encodings\n",
        " \n",
        "    def __getitem__(self, idx):\n",
        "        item = {key: torch.tensor(val[idx]) for key, val in self.encodings.items()}\n",
        "        return item\n",
        " \n",
        "    def __len__(self):\n",
        "        return len(self.encodings['input_ids'])\n",
        "\n",
        "train_embDataset = FakeNewsEmbeddingDataset(train_encodings)\n",
        "train_dataloader = DataLoader(train_embDataset, batch_size=8)"
      ],
      "execution_count": null,
      "outputs": [
        {
          "output_type": "display_data",
          "data": {
            "application/vnd.jupyter.widget-view+json": {
              "model_id": "f3de7af8681a4abeac28490a1632aaf6",
              "version_minor": 0,
              "version_major": 2
            },
            "text/plain": [
              "HBox(children=(FloatProgress(value=0.0, description='Downloading', max=625.0, style=ProgressStyle(description_…"
            ]
          },
          "metadata": {
            "tags": []
          }
        },
        {
          "output_type": "stream",
          "text": [
            "\n"
          ],
          "name": "stdout"
        },
        {
          "output_type": "display_data",
          "data": {
            "application/vnd.jupyter.widget-view+json": {
              "model_id": "7c44d90be1ce4a6d95146f7275af8770",
              "version_minor": 0,
              "version_major": 2
            },
            "text/plain": [
              "HBox(children=(FloatProgress(value=0.0, description='Downloading', max=714314041.0, style=ProgressStyle(descri…"
            ]
          },
          "metadata": {
            "tags": []
          }
        },
        {
          "output_type": "stream",
          "text": [
            "\n"
          ],
          "name": "stdout"
        },
        {
          "output_type": "stream",
          "text": [
            "Some weights of the model checkpoint at bert-base-multilingual-cased were not used when initializing BertModel: ['cls.seq_relationship.bias', 'cls.predictions.decoder.weight', 'cls.predictions.transform.dense.weight', 'cls.predictions.transform.LayerNorm.bias', 'cls.seq_relationship.weight', 'cls.predictions.transform.dense.bias', 'cls.predictions.transform.LayerNorm.weight', 'cls.predictions.bias']\n",
            "- This IS expected if you are initializing BertModel from the checkpoint of a model trained on another task or with another architecture (e.g. initializing a BertForSequenceClassification model from a BertForPreTraining model).\n",
            "- This IS NOT expected if you are initializing BertModel from the checkpoint of a model that you expect to be exactly identical (initializing a BertForSequenceClassification model from a BertForSequenceClassification model).\n"
          ],
          "name": "stderr"
        }
      ]
    },
    {
      "cell_type": "markdown",
      "metadata": {
        "id": "QrBMlkWcwQ7h"
      },
      "source": [
        "The following subclass of Dataset will only make use of train_dataset and convert it into a form the model can ingest."
      ]
    },
    {
      "cell_type": "code",
      "metadata": {
        "id": "rcwWNJwKgITK"
      },
      "source": [
        "# if False:\n",
        "#   train_embDataset = []\n",
        "#   for i in range(0,len(train_encodings)):\n",
        "#     train_embDataset.append(FakeNewsEmbeddingDataset(train_encodings[i]))"
      ],
      "execution_count": null,
      "outputs": []
    },
    {
      "cell_type": "markdown",
      "metadata": {
        "id": "hey5JH2rwp2U"
      },
      "source": [
        "Initialize a dataloader, which will take in the **train_embDataset** make batches of data out of it."
      ]
    },
    {
      "cell_type": "code",
      "metadata": {
        "id": "uxLwEEFnBDon"
      },
      "source": [
        "# if False:\n",
        "#   train_dataloader=[]\n",
        "#   for i in range(0,len(train_embDataset)):\n",
        "#     train_dataloader.append(DataLoader(train_embDataset[i], batch_size=8))"
      ],
      "execution_count": null,
      "outputs": []
    },
    {
      "cell_type": "markdown",
      "metadata": {
        "id": "80chsL_Hw8mx"
      },
      "source": [
        "Here the BERT model converts the **train dataset** into embeddings. Embeddings are of shape (batch_size, max_sequence_length=512, 768=the embedding size of each input token). For details refer to this [link](https://huggingface.co/transformers/model_doc/bert.html)."
      ]
    },
    {
      "cell_type": "code",
      "metadata": {
        "colab": {
          "base_uri": "https://localhost:8080/"
        },
        "id": "t0SmMlv2rsEG",
        "outputId": "040e032d-6f80-459a-9e14-15413d782e77"
      },
      "source": [
        "device = torch.device('cuda') if torch.cuda.is_available() else torch.device('cpu')\n",
        "# device = xm.xla_device()\n",
        "# torch.cuda.empty_cache()\n",
        "model.to(device)\n",
        "model.eval()\n",
        "outputs_list = []\n",
        "lastLayerEmbeddingList = []\n",
        "idx = 0\n",
        " \n",
        "for batch in train_dataloader:\n",
        "      print(\"batch no: \",idx)\n",
        "      idx += 1\n",
        "      batch = {k: v.to(device) for k, v in batch.items()}\n",
        "      # batch = {k: v for k, v in batch.items()}\n",
        "      with torch.no_grad():\n",
        "          outputs = model(**batch)\n",
        "          #lastLayerEmbeddingList[i].append(outputs)\n",
        "          outputs_list.append(outputs[0].to(torch.float16))\n",
        "          \n",
        "#print(\"batch no: \",idx)"
      ],
      "execution_count": null,
      "outputs": [
        {
          "output_type": "stream",
          "text": [
            "/usr/local/lib/python3.7/dist-packages/ipykernel_launcher.py:10: UserWarning: To copy construct from a tensor, it is recommended to use sourceTensor.clone().detach() or sourceTensor.clone().detach().requires_grad_(True), rather than torch.tensor(sourceTensor).\n",
            "  # Remove the CWD from sys.path while we load stuff.\n"
          ],
          "name": "stderr"
        },
        {
          "output_type": "stream",
          "text": [
            "batch no:  0\n",
            "batch no:  1\n",
            "batch no:  2\n",
            "batch no:  3\n",
            "batch no:  4\n",
            "batch no:  5\n",
            "batch no:  6\n",
            "batch no:  7\n",
            "batch no:  8\n",
            "batch no:  9\n",
            "batch no:  10\n",
            "batch no:  11\n",
            "batch no:  12\n",
            "batch no:  13\n",
            "batch no:  14\n",
            "batch no:  15\n",
            "batch no:  16\n",
            "batch no:  17\n",
            "batch no:  18\n",
            "batch no:  19\n",
            "batch no:  20\n",
            "batch no:  21\n",
            "batch no:  22\n",
            "batch no:  23\n",
            "batch no:  24\n",
            "batch no:  25\n",
            "batch no:  26\n",
            "batch no:  27\n",
            "batch no:  28\n",
            "batch no:  29\n",
            "batch no:  30\n",
            "batch no:  31\n",
            "batch no:  32\n",
            "batch no:  33\n",
            "batch no:  34\n",
            "batch no:  35\n",
            "batch no:  36\n",
            "batch no:  37\n",
            "batch no:  38\n",
            "batch no:  39\n",
            "batch no:  40\n",
            "batch no:  41\n",
            "batch no:  42\n",
            "batch no:  43\n",
            "batch no:  44\n",
            "batch no:  45\n",
            "batch no:  46\n",
            "batch no:  47\n",
            "batch no:  48\n",
            "batch no:  49\n",
            "batch no:  50\n",
            "batch no:  51\n",
            "batch no:  52\n",
            "batch no:  53\n",
            "batch no:  54\n",
            "batch no:  55\n",
            "batch no:  56\n",
            "batch no:  57\n",
            "batch no:  58\n",
            "batch no:  59\n",
            "batch no:  60\n",
            "batch no:  61\n",
            "batch no:  62\n",
            "batch no:  63\n",
            "batch no:  64\n",
            "batch no:  65\n",
            "batch no:  66\n",
            "batch no:  67\n",
            "batch no:  68\n",
            "batch no:  69\n",
            "batch no:  70\n",
            "batch no:  71\n",
            "batch no:  72\n",
            "batch no:  73\n",
            "batch no:  74\n",
            "batch no:  75\n",
            "batch no:  76\n",
            "batch no:  77\n",
            "batch no:  78\n",
            "batch no:  79\n",
            "batch no:  80\n",
            "batch no:  81\n",
            "batch no:  82\n",
            "batch no:  83\n",
            "batch no:  84\n",
            "batch no:  85\n",
            "batch no:  86\n",
            "batch no:  87\n",
            "batch no:  88\n",
            "batch no:  89\n",
            "batch no:  90\n",
            "batch no:  91\n",
            "batch no:  92\n",
            "batch no:  93\n",
            "batch no:  94\n",
            "batch no:  95\n",
            "batch no:  96\n",
            "batch no:  97\n",
            "batch no:  98\n",
            "batch no:  99\n",
            "batch no:  100\n",
            "batch no:  101\n",
            "batch no:  102\n",
            "batch no:  103\n",
            "batch no:  104\n",
            "batch no:  105\n",
            "batch no:  106\n",
            "batch no:  107\n",
            "batch no:  108\n",
            "batch no:  109\n",
            "batch no:  110\n",
            "batch no:  111\n",
            "batch no:  112\n",
            "batch no:  113\n",
            "batch no:  114\n",
            "batch no:  115\n",
            "batch no:  116\n",
            "batch no:  117\n",
            "batch no:  118\n",
            "batch no:  119\n",
            "batch no:  120\n",
            "batch no:  121\n",
            "batch no:  122\n",
            "batch no:  123\n",
            "batch no:  124\n",
            "batch no:  125\n",
            "batch no:  126\n",
            "batch no:  127\n",
            "batch no:  128\n",
            "batch no:  129\n",
            "batch no:  130\n",
            "batch no:  131\n",
            "batch no:  132\n",
            "batch no:  133\n",
            "batch no:  134\n",
            "batch no:  135\n",
            "batch no:  136\n",
            "batch no:  137\n",
            "batch no:  138\n",
            "batch no:  139\n",
            "batch no:  140\n",
            "batch no:  141\n",
            "batch no:  142\n",
            "batch no:  143\n",
            "batch no:  144\n",
            "batch no:  145\n",
            "batch no:  146\n",
            "batch no:  147\n",
            "batch no:  148\n",
            "batch no:  149\n",
            "batch no:  150\n",
            "batch no:  151\n",
            "batch no:  152\n",
            "batch no:  153\n",
            "batch no:  154\n",
            "batch no:  155\n",
            "batch no:  156\n",
            "batch no:  157\n",
            "batch no:  158\n",
            "batch no:  159\n",
            "batch no:  160\n",
            "batch no:  161\n",
            "batch no:  162\n",
            "batch no:  163\n",
            "batch no:  164\n",
            "batch no:  165\n",
            "batch no:  166\n",
            "batch no:  167\n",
            "batch no:  168\n",
            "batch no:  169\n",
            "batch no:  170\n",
            "batch no:  171\n",
            "batch no:  172\n",
            "batch no:  173\n",
            "batch no:  174\n",
            "batch no:  175\n",
            "batch no:  176\n",
            "batch no:  177\n",
            "batch no:  178\n",
            "batch no:  179\n",
            "batch no:  180\n",
            "batch no:  181\n",
            "batch no:  182\n",
            "batch no:  183\n",
            "batch no:  184\n",
            "batch no:  185\n",
            "batch no:  186\n",
            "batch no:  187\n",
            "batch no:  188\n",
            "batch no:  189\n",
            "batch no:  190\n",
            "batch no:  191\n",
            "batch no:  192\n",
            "batch no:  193\n",
            "batch no:  194\n",
            "batch no:  195\n",
            "batch no:  196\n",
            "batch no:  197\n",
            "batch no:  198\n",
            "batch no:  199\n",
            "batch no:  200\n",
            "batch no:  201\n",
            "batch no:  202\n",
            "batch no:  203\n",
            "batch no:  204\n",
            "batch no:  205\n",
            "batch no:  206\n",
            "batch no:  207\n",
            "batch no:  208\n",
            "batch no:  209\n",
            "batch no:  210\n",
            "batch no:  211\n",
            "batch no:  212\n",
            "batch no:  213\n",
            "batch no:  214\n",
            "batch no:  215\n",
            "batch no:  216\n",
            "batch no:  217\n",
            "batch no:  218\n",
            "batch no:  219\n",
            "batch no:  220\n",
            "batch no:  221\n",
            "batch no:  222\n",
            "batch no:  223\n",
            "batch no:  224\n",
            "batch no:  225\n",
            "batch no:  226\n",
            "batch no:  227\n",
            "batch no:  228\n",
            "batch no:  229\n",
            "batch no:  230\n",
            "batch no:  231\n",
            "batch no:  232\n",
            "batch no:  233\n",
            "batch no:  234\n",
            "batch no:  235\n",
            "batch no:  236\n",
            "batch no:  237\n",
            "batch no:  238\n",
            "batch no:  239\n",
            "batch no:  240\n",
            "batch no:  241\n",
            "batch no:  242\n",
            "batch no:  243\n",
            "batch no:  244\n",
            "batch no:  245\n",
            "batch no:  246\n",
            "batch no:  247\n",
            "batch no:  248\n",
            "batch no:  249\n",
            "batch no:  250\n",
            "batch no:  251\n",
            "batch no:  252\n",
            "batch no:  253\n",
            "batch no:  254\n",
            "batch no:  255\n",
            "batch no:  256\n",
            "batch no:  257\n",
            "batch no:  258\n",
            "batch no:  259\n",
            "batch no:  260\n",
            "batch no:  261\n",
            "batch no:  262\n",
            "batch no:  263\n",
            "batch no:  264\n",
            "batch no:  265\n",
            "batch no:  266\n",
            "batch no:  267\n",
            "batch no:  268\n",
            "batch no:  269\n",
            "batch no:  270\n",
            "batch no:  271\n",
            "batch no:  272\n",
            "batch no:  273\n",
            "batch no:  274\n",
            "batch no:  275\n",
            "batch no:  276\n",
            "batch no:  277\n",
            "batch no:  278\n",
            "batch no:  279\n",
            "batch no:  280\n",
            "batch no:  281\n",
            "batch no:  282\n",
            "batch no:  283\n",
            "batch no:  284\n",
            "batch no:  285\n",
            "batch no:  286\n",
            "batch no:  287\n",
            "batch no:  288\n",
            "batch no:  289\n",
            "batch no:  290\n",
            "batch no:  291\n",
            "batch no:  292\n",
            "batch no:  293\n",
            "batch no:  294\n",
            "batch no:  295\n",
            "batch no:  296\n",
            "batch no:  297\n",
            "batch no:  298\n",
            "batch no:  299\n",
            "batch no:  300\n",
            "batch no:  301\n",
            "batch no:  302\n",
            "batch no:  303\n",
            "batch no:  304\n",
            "batch no:  305\n",
            "batch no:  306\n",
            "batch no:  307\n",
            "batch no:  308\n",
            "batch no:  309\n",
            "batch no:  310\n",
            "batch no:  311\n",
            "batch no:  312\n",
            "batch no:  313\n",
            "batch no:  314\n",
            "batch no:  315\n",
            "batch no:  316\n",
            "batch no:  317\n",
            "batch no:  318\n",
            "batch no:  319\n",
            "batch no:  320\n",
            "batch no:  321\n",
            "batch no:  322\n",
            "batch no:  323\n",
            "batch no:  324\n",
            "batch no:  325\n",
            "batch no:  326\n",
            "batch no:  327\n",
            "batch no:  328\n",
            "batch no:  329\n",
            "batch no:  330\n",
            "batch no:  331\n",
            "batch no:  332\n",
            "batch no:  333\n",
            "batch no:  334\n",
            "batch no:  335\n",
            "batch no:  336\n",
            "batch no:  337\n",
            "batch no:  338\n",
            "batch no:  339\n",
            "batch no:  340\n",
            "batch no:  341\n",
            "batch no:  342\n",
            "batch no:  343\n",
            "batch no:  344\n",
            "batch no:  345\n",
            "batch no:  346\n",
            "batch no:  347\n",
            "batch no:  348\n",
            "batch no:  349\n",
            "batch no:  350\n",
            "batch no:  351\n",
            "batch no:  352\n",
            "batch no:  353\n",
            "batch no:  354\n",
            "batch no:  355\n",
            "batch no:  356\n",
            "batch no:  357\n",
            "batch no:  358\n"
          ],
          "name": "stdout"
        }
      ]
    },
    {
      "cell_type": "code",
      "metadata": {
        "id": "0xl35VRCk5MM",
        "colab": {
          "base_uri": "https://localhost:8080/"
        },
        "outputId": "a4392821-c18d-44c6-86cf-1812012807c2"
      },
      "source": [
        "import sys\n",
        "print(len(outputs_list))\n",
        "# print(outputs_list[0].shape)\n",
        "# print(outputs_list[358])\n",
        "# print(outputs_list[0].type())\n",
        "# print(sys.getsizeof(outputs_list[0].storage())*len(outputs_list))"
      ],
      "execution_count": null,
      "outputs": [
        {
          "output_type": "stream",
          "text": [
            "359\n"
          ],
          "name": "stdout"
        }
      ]
    },
    {
      "cell_type": "markdown",
      "metadata": {
        "id": "sBbzm-lmyj35"
      },
      "source": [
        "The two cells above create a list of tensors. The length of list is the same as the number of batches. If there were 8 batches in total and there were 32 sentences per batch, the length of list would be 8. Furthermore, each tensor in the list would of shape (32,512,768)\n",
        "\n",
        "The following code turn a list of tensors into one consolidated tensor which would be fed to the classification model."
      ]
    },
    {
      "cell_type": "code",
      "metadata": {
        "id": "eKBuLf4cMqjO"
      },
      "source": [
        "#outputTensor = torch.empty((358*8+4,512,768))\n",
        "#temp = np.empty((2868,512,768))\n",
        " \n",
        "def listToTensor(outputs_list, tensorFirstDim):\n",
        "  tensorIdx = 0\n",
        "  outputTensor = torch.zeros(tensorFirstDim,512,768).to(torch.float16)\n",
        "  for tensor in outputs_list:\n",
        "    outputTensor[tensorIdx:tensorIdx+tensor.shape[0],:,:] = tensor\n",
        "    tensorIdx += tensor.shape[0]\n",
        "  return outputTensor\n",
        " \n",
        "# def listToTensorV2(listOfTensors, firstDim):\n",
        "#   tensorIdx = 0\n",
        "#   listIdx = 0\n",
        "#   outputTensor = torch.zeros(firstDim,512,768).to(torch.float16)\n",
        "#   for t in listOfTensors:\n",
        "#     outputTensor[tensorIdx:tensorIdx+t.shape[0],:,:] = t\n",
        "#     listOfTensors[listIdx] = None\n",
        "#     listIdx+=1\n",
        "#     tensorIdx+=t.shape[0]\n",
        "#   return outputTensor"
      ],
      "execution_count": null,
      "outputs": []
    },
    {
      "cell_type": "code",
      "metadata": {
        "id": "VrH-j30e5YU1"
      },
      "source": [
        "outputTensor = listToTensor(outputs_list, len(train_texts[INDEX]))\n",
        "del outputs_list"
      ],
      "execution_count": null,
      "outputs": []
    },
    {
      "cell_type": "code",
      "metadata": {
        "colab": {
          "base_uri": "https://localhost:8080/",
          "height": 69
        },
        "id": "JyKcsk4yZKS8",
        "outputId": "a032680c-0427-47cc-9ccf-115e4e5e99e4"
      },
      "source": [
        "import sys\n",
        "print(sys.getsizeof(outputTensor.storage()))\n",
        "print(outputTensor.shape)\n",
        "outputTensor.type()"
      ],
      "execution_count": null,
      "outputs": [
        {
          "output_type": "stream",
          "text": [
            "2256273480\n",
            "torch.Size([2869, 512, 768])\n"
          ],
          "name": "stdout"
        },
        {
          "output_type": "execute_result",
          "data": {
            "application/vnd.google.colaboratory.intrinsic+json": {
              "type": "string"
            },
            "text/plain": [
              "'torch.HalfTensor'"
            ]
          },
          "metadata": {
            "tags": []
          },
          "execution_count": 16
        }
      ]
    },
    {
      "cell_type": "code",
      "metadata": {
        "id": "wzUMnG4Gh1g9"
      },
      "source": [
        "del train_encodings, train_embDataset, train_dataloader,outputs, model, tokenizer"
      ],
      "execution_count": null,
      "outputs": []
    },
    {
      "cell_type": "code",
      "metadata": {
        "colab": {
          "base_uri": "https://localhost:8080/"
        },
        "id": "wHhJcQNtqiUi",
        "outputId": "38942fd7-2d32-43e2-d0c4-21408dd323d1"
      },
      "source": [
        "outputTensor[2866]"
      ],
      "execution_count": null,
      "outputs": [
        {
          "output_type": "execute_result",
          "data": {
            "text/plain": [
              "tensor([[ 0.1057, -0.0529,  0.2419,  ..., -0.2126,  0.0395, -0.2335],\n",
              "        [-0.3027, -0.0263,  0.4280,  ...,  1.1992,  0.3176, -0.2690],\n",
              "        [-0.4417, -0.2625,  0.1943,  ...,  0.4446,  0.9346, -0.1545],\n",
              "        ...,\n",
              "        [-0.2074,  0.0918, -0.1515,  ...,  0.0804,  0.6055, -0.0799],\n",
              "        [-0.2009,  0.0111,  0.7041,  ...,  0.8159,  0.3474, -0.3684],\n",
              "        [ 0.2411,  0.4619,  0.6484,  ...,  0.1217,  0.2546, -0.2861]],\n",
              "       dtype=torch.float16)"
            ]
          },
          "metadata": {
            "tags": []
          },
          "execution_count": 18
        }
      ]
    },
    {
      "cell_type": "markdown",
      "metadata": {
        "id": "QfGiuVE1bvqj"
      },
      "source": [
        "# SMOTE"
      ]
    },
    {
      "cell_type": "code",
      "metadata": {
        "id": "tW1xRUKccNCH"
      },
      "source": [
        "outputTensor = tf.reshape(outputTensor, [len(train_texts[INDEX]),-1])"
      ],
      "execution_count": null,
      "outputs": []
    },
    {
      "cell_type": "code",
      "metadata": {
        "id": "k5RRNF9cnFoX",
        "colab": {
          "base_uri": "https://localhost:8080/"
        },
        "outputId": "24deb725-c5c6-417b-c8a4-b6d81dee507f"
      },
      "source": [
        "print(outputTensor.shape)\n",
        "print(outputTensor[0][0:100])\n",
        "# print(outputTensor.type)\n",
        "print(sys.getsizeof(train_labels[INDEX])*len(train_labels))"
      ],
      "execution_count": null,
      "outputs": [
        {
          "output_type": "stream",
          "text": [
            "(2869, 393216)\n",
            "tf.Tensor(\n",
            "[-0.0029    0.2484   -0.09784  -0.1011    0.375    -0.2017   -0.04605\n",
            " -0.11786   0.03053   0.04465  -0.2012   -0.1265    0.0524    0.117\n",
            " -0.689    -0.04266  -0.09534   0.1255    0.2227    0.2783    0.1149\n",
            " -0.04446   0.02808   0.1611    0.00579   0.00821   0.0718    0.5405\n",
            "  0.7905    0.3162    0.2078    0.08466  -0.1892   -0.2288    0.06067\n",
            " -0.3323   -1.704     0.0447   -0.0717    0.1243    0.02661  -0.002937\n",
            " -0.04343  -0.0879    0.2664    1.08      0.0498    0.181     1.105\n",
            "  0.0973    0.05725  -0.758    -0.03738  -1.459     0.206    -0.03235\n",
            "  0.02953  -0.1149   -0.1145    0.0762    0.1357    0.3296    0.1267\n",
            " -0.11694  -0.2477    0.09644   0.0846    0.1827   -0.1255    0.1415\n",
            "  0.1996    0.0698   -0.05765  -0.225     0.141     0.215     0.1329\n",
            "  0.2217   -0.01283  -0.173     0.01505   0.06396  -0.423    -0.01375\n",
            "  0.0495   -0.067    -0.05182  -0.1418    0.05304   0.2957   -0.257\n",
            "  0.0415   -0.4446   -0.01313  -0.1844   -0.9023    0.1986   -0.0288\n",
            "  0.1741   -0.1285  ], shape=(100,), dtype=float16)\n",
            "230240\n"
          ],
          "name": "stdout"
        }
      ]
    },
    {
      "cell_type": "code",
      "metadata": {
        "id": "2ipI9-HBnuXr"
      },
      "source": [
        "outputTensor = outputTensor.numpy()\n",
        "y = np.array(train_labels[INDEX])"
      ],
      "execution_count": null,
      "outputs": []
    },
    {
      "cell_type": "code",
      "metadata": {
        "colab": {
          "base_uri": "https://localhost:8080/"
        },
        "id": "Ylxktm_ddjfR",
        "outputId": "1cf83c86-fd9c-4d1e-8dc5-de47ae37b23f"
      },
      "source": [
        "import sys\n",
        "sys.getsizeof(y)"
      ],
      "execution_count": null,
      "outputs": [
        {
          "output_type": "execute_result",
          "data": {
            "text/plain": [
              "23048"
            ]
          },
          "metadata": {
            "tags": []
          },
          "execution_count": 22
        }
      ]
    },
    {
      "cell_type": "code",
      "metadata": {
        "id": "KFLcq0brdDMJ",
        "colab": {
          "base_uri": "https://localhost:8080/"
        },
        "outputId": "b1f88899-13c0-4dcf-ca0d-5d7064ee1c0b"
      },
      "source": [
        "from imblearn.over_sampling import SMOTE\n",
        "\n",
        "smoteBatchSize = 200\n",
        "oversample = SMOTE(k_neighbors=5, random_state=42)\n",
        "smoteTensorList = []\n",
        "y_list = []\n",
        "idx=0\n",
        "for i in range(0, outputTensor.shape[0]//smoteBatchSize+1):\n",
        "  print(\"iter: \",i)\n",
        "  temp1 = None\n",
        "  temp2 = None\n",
        "  if y.shape[0]>=smoteBatchSize:\n",
        "    temp1, temp2 = oversample.fit_resample(outputTensor[0:smoteBatchSize,:],y[0:smoteBatchSize])\n",
        "    outputTensor = outputTensor[smoteBatchSize:,:]\n",
        "    y = y[smoteBatchSize:]\n",
        "  else:\n",
        "    temp1, temp2 = oversample.fit_resample(outputTensor[0:,:],y[0:])\n",
        "    del outputTensor\n",
        "    del y\n",
        "  smoteTensorList.append(temp1)\n",
        "  y_list.append(temp2)\n",
        "  \n",
        "  # idx+=500"
      ],
      "execution_count": null,
      "outputs": [
        {
          "output_type": "stream",
          "text": [
            "/usr/local/lib/python3.7/dist-packages/sklearn/externals/six.py:31: FutureWarning: The module is deprecated in version 0.21 and will be removed in version 0.23 since we've dropped support for Python 2.7. Please rely on the official version of six (https://pypi.org/project/six/).\n",
            "  \"(https://pypi.org/project/six/).\", FutureWarning)\n",
            "/usr/local/lib/python3.7/dist-packages/sklearn/utils/deprecation.py:144: FutureWarning: The sklearn.neighbors.base module is  deprecated in version 0.22 and will be removed in version 0.24. The corresponding classes / functions should instead be imported from sklearn.neighbors. Anything that cannot be imported from sklearn.neighbors is now part of the private API.\n",
            "  warnings.warn(message, FutureWarning)\n"
          ],
          "name": "stderr"
        },
        {
          "output_type": "stream",
          "text": [
            "iter:  0\n"
          ],
          "name": "stdout"
        },
        {
          "output_type": "stream",
          "text": [
            "/usr/local/lib/python3.7/dist-packages/sklearn/utils/deprecation.py:87: FutureWarning: Function safe_indexing is deprecated; safe_indexing is deprecated in version 0.22 and will be removed in version 0.24.\n",
            "  warnings.warn(msg, category=FutureWarning)\n"
          ],
          "name": "stderr"
        },
        {
          "output_type": "stream",
          "text": [
            "iter:  1\n"
          ],
          "name": "stdout"
        },
        {
          "output_type": "stream",
          "text": [
            "/usr/local/lib/python3.7/dist-packages/sklearn/utils/deprecation.py:87: FutureWarning: Function safe_indexing is deprecated; safe_indexing is deprecated in version 0.22 and will be removed in version 0.24.\n",
            "  warnings.warn(msg, category=FutureWarning)\n"
          ],
          "name": "stderr"
        },
        {
          "output_type": "stream",
          "text": [
            "iter:  2\n"
          ],
          "name": "stdout"
        },
        {
          "output_type": "stream",
          "text": [
            "/usr/local/lib/python3.7/dist-packages/sklearn/utils/deprecation.py:87: FutureWarning: Function safe_indexing is deprecated; safe_indexing is deprecated in version 0.22 and will be removed in version 0.24.\n",
            "  warnings.warn(msg, category=FutureWarning)\n"
          ],
          "name": "stderr"
        },
        {
          "output_type": "stream",
          "text": [
            "iter:  3\n"
          ],
          "name": "stdout"
        },
        {
          "output_type": "stream",
          "text": [
            "/usr/local/lib/python3.7/dist-packages/sklearn/utils/deprecation.py:87: FutureWarning: Function safe_indexing is deprecated; safe_indexing is deprecated in version 0.22 and will be removed in version 0.24.\n",
            "  warnings.warn(msg, category=FutureWarning)\n"
          ],
          "name": "stderr"
        },
        {
          "output_type": "stream",
          "text": [
            "iter:  4\n"
          ],
          "name": "stdout"
        },
        {
          "output_type": "stream",
          "text": [
            "/usr/local/lib/python3.7/dist-packages/sklearn/utils/deprecation.py:87: FutureWarning: Function safe_indexing is deprecated; safe_indexing is deprecated in version 0.22 and will be removed in version 0.24.\n",
            "  warnings.warn(msg, category=FutureWarning)\n"
          ],
          "name": "stderr"
        },
        {
          "output_type": "stream",
          "text": [
            "iter:  5\n"
          ],
          "name": "stdout"
        },
        {
          "output_type": "stream",
          "text": [
            "/usr/local/lib/python3.7/dist-packages/sklearn/utils/deprecation.py:87: FutureWarning: Function safe_indexing is deprecated; safe_indexing is deprecated in version 0.22 and will be removed in version 0.24.\n",
            "  warnings.warn(msg, category=FutureWarning)\n"
          ],
          "name": "stderr"
        },
        {
          "output_type": "stream",
          "text": [
            "iter:  6\n"
          ],
          "name": "stdout"
        },
        {
          "output_type": "stream",
          "text": [
            "/usr/local/lib/python3.7/dist-packages/sklearn/utils/deprecation.py:87: FutureWarning: Function safe_indexing is deprecated; safe_indexing is deprecated in version 0.22 and will be removed in version 0.24.\n",
            "  warnings.warn(msg, category=FutureWarning)\n"
          ],
          "name": "stderr"
        },
        {
          "output_type": "stream",
          "text": [
            "iter:  7\n"
          ],
          "name": "stdout"
        },
        {
          "output_type": "stream",
          "text": [
            "/usr/local/lib/python3.7/dist-packages/sklearn/utils/deprecation.py:87: FutureWarning: Function safe_indexing is deprecated; safe_indexing is deprecated in version 0.22 and will be removed in version 0.24.\n",
            "  warnings.warn(msg, category=FutureWarning)\n"
          ],
          "name": "stderr"
        },
        {
          "output_type": "stream",
          "text": [
            "iter:  8\n"
          ],
          "name": "stdout"
        },
        {
          "output_type": "stream",
          "text": [
            "/usr/local/lib/python3.7/dist-packages/sklearn/utils/deprecation.py:87: FutureWarning: Function safe_indexing is deprecated; safe_indexing is deprecated in version 0.22 and will be removed in version 0.24.\n",
            "  warnings.warn(msg, category=FutureWarning)\n"
          ],
          "name": "stderr"
        },
        {
          "output_type": "stream",
          "text": [
            "iter:  9\n"
          ],
          "name": "stdout"
        },
        {
          "output_type": "stream",
          "text": [
            "/usr/local/lib/python3.7/dist-packages/sklearn/utils/deprecation.py:87: FutureWarning: Function safe_indexing is deprecated; safe_indexing is deprecated in version 0.22 and will be removed in version 0.24.\n",
            "  warnings.warn(msg, category=FutureWarning)\n"
          ],
          "name": "stderr"
        },
        {
          "output_type": "stream",
          "text": [
            "iter:  10\n"
          ],
          "name": "stdout"
        },
        {
          "output_type": "stream",
          "text": [
            "/usr/local/lib/python3.7/dist-packages/sklearn/utils/deprecation.py:87: FutureWarning: Function safe_indexing is deprecated; safe_indexing is deprecated in version 0.22 and will be removed in version 0.24.\n",
            "  warnings.warn(msg, category=FutureWarning)\n"
          ],
          "name": "stderr"
        },
        {
          "output_type": "stream",
          "text": [
            "iter:  11\n"
          ],
          "name": "stdout"
        },
        {
          "output_type": "stream",
          "text": [
            "/usr/local/lib/python3.7/dist-packages/sklearn/utils/deprecation.py:87: FutureWarning: Function safe_indexing is deprecated; safe_indexing is deprecated in version 0.22 and will be removed in version 0.24.\n",
            "  warnings.warn(msg, category=FutureWarning)\n"
          ],
          "name": "stderr"
        },
        {
          "output_type": "stream",
          "text": [
            "iter:  12\n"
          ],
          "name": "stdout"
        },
        {
          "output_type": "stream",
          "text": [
            "/usr/local/lib/python3.7/dist-packages/sklearn/utils/deprecation.py:87: FutureWarning: Function safe_indexing is deprecated; safe_indexing is deprecated in version 0.22 and will be removed in version 0.24.\n",
            "  warnings.warn(msg, category=FutureWarning)\n"
          ],
          "name": "stderr"
        },
        {
          "output_type": "stream",
          "text": [
            "iter:  13\n"
          ],
          "name": "stdout"
        },
        {
          "output_type": "stream",
          "text": [
            "/usr/local/lib/python3.7/dist-packages/sklearn/utils/deprecation.py:87: FutureWarning: Function safe_indexing is deprecated; safe_indexing is deprecated in version 0.22 and will be removed in version 0.24.\n",
            "  warnings.warn(msg, category=FutureWarning)\n"
          ],
          "name": "stderr"
        },
        {
          "output_type": "stream",
          "text": [
            "iter:  14\n"
          ],
          "name": "stdout"
        },
        {
          "output_type": "stream",
          "text": [
            "/usr/local/lib/python3.7/dist-packages/sklearn/utils/deprecation.py:87: FutureWarning: Function safe_indexing is deprecated; safe_indexing is deprecated in version 0.22 and will be removed in version 0.24.\n",
            "  warnings.warn(msg, category=FutureWarning)\n"
          ],
          "name": "stderr"
        }
      ]
    },
    {
      "cell_type": "code",
      "metadata": {
        "colab": {
          "base_uri": "https://localhost:8080/"
        },
        "id": "RsflVqPwtxc_",
        "outputId": "f57b5a54-ca25-4ac1-d9fb-ebe47b58e23a"
      },
      "source": [
        "print(len(y_list))\n",
        "print(len(smoteTensorList))\n",
        "print(len(y_list[0]),\"\\n\",len(y_list[-1]))\n",
        "print(smoteTensorList[1].shape,\"\\n\",smoteTensorList[-1].shape)\n",
        "print(len(smoteTensorList[1]))"
      ],
      "execution_count": null,
      "outputs": [
        {
          "output_type": "stream",
          "text": [
            "15\n",
            "15\n",
            "322 \n",
            " 114\n",
            "(310, 393216) \n",
            " (114, 393216)\n",
            "310\n"
          ],
          "name": "stdout"
        }
      ]
    },
    {
      "cell_type": "code",
      "metadata": {
        "id": "4R8kbxWoRWXW"
      },
      "source": [
        "def embeddingSize(listOfArray):\n",
        "  retSize = 0\n",
        "  for t in listOfArray:\n",
        "    retSize += t.shape[0]\n",
        "  return retSize"
      ],
      "execution_count": null,
      "outputs": []
    },
    {
      "cell_type": "code",
      "metadata": {
        "colab": {
          "base_uri": "https://localhost:8080/"
        },
        "id": "7DLGzR6MCLeF",
        "outputId": "49e6f718-83ac-4ae4-8571-7f7f35ba7928"
      },
      "source": [
        "smoteDatasize = embeddingSize(smoteTensorList)\n",
        "print(smoteDatasize)\n",
        "print(sys.getsizeof(None))"
      ],
      "execution_count": null,
      "outputs": [
        {
          "output_type": "stream",
          "text": [
            "4656\n",
            "16\n"
          ],
          "name": "stdout"
        }
      ]
    },
    {
      "cell_type": "code",
      "metadata": {
        "id": "mmcpnevmC4Dv"
      },
      "source": [
        "# if False:\n",
        "#   smoteTensor = listToTensorV2(smoteTensorList,smoteDatasize)"
      ],
      "execution_count": null,
      "outputs": []
    },
    {
      "cell_type": "markdown",
      "metadata": {
        "id": "KzIdmwhYBItR"
      },
      "source": [
        "#Classification Model"
      ]
    },
    {
      "cell_type": "code",
      "metadata": {
        "id": "slykfLDbsjYR"
      },
      "source": [
        "class FakeNewsDataset(torch.utils.data.Dataset):\n",
        "    def __init__(self, encodings, labels, datasetType):\n",
        "        self.encodings = encodings\n",
        "        self.labels = labels\n",
        "        self.datasetType = datasetType\n",
        "\n",
        "    def __getitem__(self, idx):\n",
        "        item = {}\n",
        "        if self.datasetType == \"train\":\n",
        "          item['inputs_embeds'] = self.encodings[idx]\n",
        "        else:\n",
        "          item = {key: torch.tensor(val[idx]) for key, val in self.encodings.items()}\n",
        "        item['labels'] = torch.tensor(self.labels[idx])\n",
        "        return item\n",
        "\n",
        "    def __len__(self):\n",
        "        return len(self.labels)"
      ],
      "execution_count": null,
      "outputs": []
    },
    {
      "cell_type": "markdown",
      "metadata": {
        "id": "EJseUKiCypYi"
      },
      "source": [
        "Once again we use a subclass of Dataset class (FakeNewsDataset) to create final datasets we need for each step of k-fold cross validation. To create **train_dataset**, we use the embeddings we computed just now. To create the **test_dataset**, the list of sentences created by applying \"tolist()\" on the dataframe containing test split is used."
      ]
    },
    {
      "cell_type": "code",
      "metadata": {
        "colab": {
          "base_uri": "https://localhost:8080/"
        },
        "id": "uTuAZs9vlpSX",
        "outputId": "319ccbce-a6ac-464e-8b0e-6c6b7b1dbb30"
      },
      "source": [
        "print(smoteTensorList[0].shape)\n",
        "for idx in range(0,len(smoteTensorList)):\n",
        "  smoteTensorList[idx] = smoteTensorList[idx].reshape(-1,512,768)\n",
        "print(smoteTensorList[0].shape)"
      ],
      "execution_count": null,
      "outputs": [
        {
          "output_type": "stream",
          "text": [
            "(322, 393216)\n",
            "(322, 512, 768)\n"
          ],
          "name": "stdout"
        }
      ]
    },
    {
      "cell_type": "code",
      "metadata": {
        "colab": {
          "base_uri": "https://localhost:8080/"
        },
        "id": "6aMwaHFmTAix",
        "outputId": "929e0b2d-8b73-4b3a-8a2b-e7a183382277"
      },
      "source": [
        "sum = 0\n",
        "for i in range(0,len(smoteTensorList)):\n",
        "  sum += math.ceil(len(smoteTensorList[i])/8)\n",
        "print(sum*15)"
      ],
      "execution_count": null,
      "outputs": [
        {
          "output_type": "stream",
          "text": [
            "8835\n"
          ],
          "name": "stdout"
        }
      ]
    },
    {
      "cell_type": "code",
      "metadata": {
        "id": "P3L4SAqzkiHW",
        "colab": {
          "base_uri": "https://localhost:8080/",
          "height": 1000,
          "referenced_widgets": [
            "319475c8faed49b99f70acec9a2c7093",
            "3a78e8c9f5da40b1aa63915ae51b317e",
            "3ff4b3101abc45578a5efd7b23fa7a78",
            "e6bfb1719651492d8497b7fa0f8394c5",
            "c745e7603e754c2e99d443f735a568a2",
            "1fe317472a204d43a594d046e9d1f52e",
            "e6aa4ea0369b49fc8844ccd4f5b9919b",
            "1197b283064a447cb2ea68b21bc649a3"
          ]
        },
        "outputId": "f615a781-5630-4fea-c07d-e5a5e7f2e1cb"
      },
      "source": [
        "from torch.utils.data import DataLoader\n",
        "from transformers import get_scheduler\n",
        "from transformers import BertForSequenceClassification, Trainer, TrainingArguments\n",
        "from transformers import AdamW\n",
        "\n",
        "model = BertForSequenceClassification.from_pretrained(\"bert-base-multilingual-cased\")\n",
        "optimizer = AdamW(model.parameters(), lr=4e-5)\n",
        "\n",
        "\n",
        "model.to(device)\n",
        "\n",
        "num_epochs = 15\n",
        "batch_size = 8\n",
        "sum = 0\n",
        "Loss = []\n",
        "\n",
        "sum = 0\n",
        "steps = 0\n",
        "for i in range(0,len(smoteTensorList)):\n",
        "  sum += math.ceil(len(smoteTensorList[i])/batch_size)\n",
        "\n",
        "num_training_steps = num_epochs * sum\n",
        "lr_scheduler = get_scheduler(\n",
        "    \"linear\",\n",
        "    optimizer=optimizer,\n",
        "    num_warmup_steps=0,\n",
        "    num_training_steps=num_training_steps\n",
        ")\n",
        "\n",
        "progress_bar = tqdm(range(num_training_steps))\n",
        "\n",
        "model.train()\n",
        "\n",
        "\n",
        "for epoch in range(num_epochs):\n",
        "  print(\"Epoch No\", epoch)\n",
        "  for i in range(len(smoteTensorList)):\n",
        "    print(\"Tensor\", i)\n",
        "    train_dataloader = DataLoader(FakeNewsDataset(smoteTensorList[i],y_list[i],\"train\"), shuffle=True, batch_size=8)\n",
        "    for batch in train_dataloader:\n",
        "        batch = {k: v.to(device) for k, v in batch.items()}\n",
        "        outputs = model(**batch)\n",
        "        steps+=1\n",
        "        loss = outputs.loss\n",
        "        loss.backward()\n",
        "        if(steps%100==0):\n",
        "          Loss.append(loss)\n",
        "        \n",
        "\n",
        "        optimizer.step()\n",
        "        lr_scheduler.step()\n",
        "        optimizer.zero_grad()\n",
        "        progress_bar.update(1)"
      ],
      "execution_count": null,
      "outputs": [
        {
          "output_type": "stream",
          "text": [
            "Some weights of the model checkpoint at bert-base-multilingual-cased were not used when initializing BertForSequenceClassification: ['cls.seq_relationship.bias', 'cls.predictions.decoder.weight', 'cls.predictions.transform.dense.weight', 'cls.predictions.transform.LayerNorm.bias', 'cls.seq_relationship.weight', 'cls.predictions.transform.dense.bias', 'cls.predictions.transform.LayerNorm.weight', 'cls.predictions.bias']\n",
            "- This IS expected if you are initializing BertForSequenceClassification from the checkpoint of a model trained on another task or with another architecture (e.g. initializing a BertForSequenceClassification model from a BertForPreTraining model).\n",
            "- This IS NOT expected if you are initializing BertForSequenceClassification from the checkpoint of a model that you expect to be exactly identical (initializing a BertForSequenceClassification model from a BertForSequenceClassification model).\n",
            "Some weights of BertForSequenceClassification were not initialized from the model checkpoint at bert-base-multilingual-cased and are newly initialized: ['classifier.bias', 'classifier.weight']\n",
            "You should probably TRAIN this model on a down-stream task to be able to use it for predictions and inference.\n"
          ],
          "name": "stderr"
        },
        {
          "output_type": "display_data",
          "data": {
            "application/vnd.jupyter.widget-view+json": {
              "model_id": "319475c8faed49b99f70acec9a2c7093",
              "version_minor": 0,
              "version_major": 2
            },
            "text/plain": [
              "HBox(children=(FloatProgress(value=0.0, max=8835.0), HTML(value='')))"
            ]
          },
          "metadata": {
            "tags": []
          }
        },
        {
          "output_type": "stream",
          "text": [
            "Epoch No 0\n",
            "Tensor 0\n",
            "Tensor 1\n",
            "Tensor 2\n",
            "Tensor 3\n",
            "Tensor 4\n",
            "Tensor 5\n",
            "Tensor 6\n",
            "Tensor 7\n",
            "Tensor 8\n",
            "Tensor 9\n",
            "Tensor 10\n",
            "Tensor 11\n",
            "Tensor 12\n",
            "Tensor 13\n",
            "Tensor 14\n",
            "Epoch No 1\n",
            "Tensor 0\n",
            "Tensor 1\n",
            "Tensor 2\n",
            "Tensor 3\n",
            "Tensor 4\n",
            "Tensor 5\n",
            "Tensor 6\n",
            "Tensor 7\n",
            "Tensor 8\n",
            "Tensor 9\n",
            "Tensor 10\n",
            "Tensor 11\n",
            "Tensor 12\n",
            "Tensor 13\n",
            "Tensor 14\n",
            "Epoch No 2\n",
            "Tensor 0\n",
            "Tensor 1\n",
            "Tensor 2\n",
            "Tensor 3\n",
            "Tensor 4\n",
            "Tensor 5\n",
            "Tensor 6\n",
            "Tensor 7\n",
            "Tensor 8\n",
            "Tensor 9\n",
            "Tensor 10\n",
            "Tensor 11\n",
            "Tensor 12\n",
            "Tensor 13\n",
            "Tensor 14\n",
            "Epoch No 3\n",
            "Tensor 0\n",
            "Tensor 1\n",
            "Tensor 2\n",
            "Tensor 3\n",
            "Tensor 4\n",
            "Tensor 5\n",
            "Tensor 6\n",
            "Tensor 7\n",
            "Tensor 8\n",
            "Tensor 9\n",
            "Tensor 10\n",
            "Tensor 11\n",
            "Tensor 12\n",
            "Tensor 13\n",
            "Tensor 14\n",
            "Epoch No 4\n",
            "Tensor 0\n",
            "Tensor 1\n",
            "Tensor 2\n",
            "Tensor 3\n",
            "Tensor 4\n",
            "Tensor 5\n",
            "Tensor 6\n",
            "Tensor 7\n",
            "Tensor 8\n",
            "Tensor 9\n",
            "Tensor 10\n",
            "Tensor 11\n",
            "Tensor 12\n",
            "Tensor 13\n",
            "Tensor 14\n",
            "Epoch No 5\n",
            "Tensor 0\n",
            "Tensor 1\n",
            "Tensor 2\n",
            "Tensor 3\n",
            "Tensor 4\n",
            "Tensor 5\n",
            "Tensor 6\n",
            "Tensor 7\n",
            "Tensor 8\n",
            "Tensor 9\n",
            "Tensor 10\n",
            "Tensor 11\n",
            "Tensor 12\n",
            "Tensor 13\n",
            "Tensor 14\n",
            "Epoch No 6\n",
            "Tensor 0\n",
            "Tensor 1\n",
            "Tensor 2\n",
            "Tensor 3\n",
            "Tensor 4\n",
            "Tensor 5\n",
            "Tensor 6\n",
            "Tensor 7\n",
            "Tensor 8\n",
            "Tensor 9\n",
            "Tensor 10\n",
            "Tensor 11\n",
            "Tensor 12\n",
            "Tensor 13\n",
            "Tensor 14\n",
            "Epoch No 7\n",
            "Tensor 0\n",
            "Tensor 1\n",
            "Tensor 2\n",
            "Tensor 3\n",
            "Tensor 4\n",
            "Tensor 5\n",
            "Tensor 6\n",
            "Tensor 7\n",
            "Tensor 8\n",
            "Tensor 9\n",
            "Tensor 10\n",
            "Tensor 11\n",
            "Tensor 12\n",
            "Tensor 13\n",
            "Tensor 14\n",
            "Epoch No 8\n",
            "Tensor 0\n",
            "Tensor 1\n",
            "Tensor 2\n",
            "Tensor 3\n",
            "Tensor 4\n",
            "Tensor 5\n",
            "Tensor 6\n",
            "Tensor 7\n",
            "Tensor 8\n",
            "Tensor 9\n",
            "Tensor 10\n",
            "Tensor 11\n",
            "Tensor 12\n",
            "Tensor 13\n",
            "Tensor 14\n",
            "Epoch No 9\n",
            "Tensor 0\n",
            "Tensor 1\n",
            "Tensor 2\n",
            "Tensor 3\n",
            "Tensor 4\n",
            "Tensor 5\n",
            "Tensor 6\n",
            "Tensor 7\n",
            "Tensor 8\n",
            "Tensor 9\n",
            "Tensor 10\n",
            "Tensor 11\n",
            "Tensor 12\n",
            "Tensor 13\n",
            "Tensor 14\n",
            "Epoch No 10\n",
            "Tensor 0\n",
            "Tensor 1\n",
            "Tensor 2\n",
            "Tensor 3\n",
            "Tensor 4\n",
            "Tensor 5\n",
            "Tensor 6\n",
            "Tensor 7\n",
            "Tensor 8\n",
            "Tensor 9\n",
            "Tensor 10\n",
            "Tensor 11\n",
            "Tensor 12\n",
            "Tensor 13\n",
            "Tensor 14\n",
            "Epoch No 11\n",
            "Tensor 0\n",
            "Tensor 1\n",
            "Tensor 2\n",
            "Tensor 3\n",
            "Tensor 4\n",
            "Tensor 5\n",
            "Tensor 6\n",
            "Tensor 7\n",
            "Tensor 8\n",
            "Tensor 9\n",
            "Tensor 10\n",
            "Tensor 11\n",
            "Tensor 12\n",
            "Tensor 13\n",
            "Tensor 14\n",
            "Epoch No 12\n",
            "Tensor 0\n",
            "Tensor 1\n",
            "Tensor 2\n",
            "Tensor 3\n",
            "Tensor 4\n",
            "Tensor 5\n",
            "Tensor 6\n",
            "Tensor 7\n",
            "Tensor 8\n",
            "Tensor 9\n",
            "Tensor 10\n",
            "Tensor 11\n",
            "Tensor 12\n",
            "Tensor 13\n",
            "Tensor 14\n",
            "Epoch No 13\n",
            "Tensor 0\n",
            "Tensor 1\n",
            "Tensor 2\n",
            "Tensor 3\n",
            "Tensor 4\n",
            "Tensor 5\n",
            "Tensor 6\n",
            "Tensor 7\n",
            "Tensor 8\n",
            "Tensor 9\n",
            "Tensor 10\n",
            "Tensor 11\n",
            "Tensor 12\n",
            "Tensor 13\n",
            "Tensor 14\n",
            "Epoch No 14\n",
            "Tensor 0\n",
            "Tensor 1\n",
            "Tensor 2\n",
            "Tensor 3\n",
            "Tensor 4\n",
            "Tensor 5\n",
            "Tensor 6\n",
            "Tensor 7\n",
            "Tensor 8\n",
            "Tensor 9\n",
            "Tensor 10\n",
            "Tensor 11\n",
            "Tensor 12\n",
            "Tensor 13\n",
            "Tensor 14\n"
          ],
          "name": "stdout"
        }
      ]
    },
    {
      "cell_type": "code",
      "metadata": {
        "colab": {
          "base_uri": "https://localhost:8080/"
        },
        "id": "iuOSZUWSZLwT",
        "outputId": "12724ec6-2d62-4ed3-dbba-d7359689b6ed"
      },
      "source": [
        "print(len(Loss))\n",
        "for i in range(len(Loss)):\n",
        "  print(Loss[i].item())"
      ],
      "execution_count": null,
      "outputs": [
        {
          "output_type": "stream",
          "text": [
            "88\n",
            "0.5125631093978882\n",
            "0.3844442069530487\n",
            "0.16606645286083221\n",
            "0.1536693125963211\n",
            "0.7591034173965454\n",
            "0.7475364208221436\n",
            "0.7191165089607239\n",
            "0.35846468806266785\n",
            "0.708942174911499\n",
            "0.7711504101753235\n",
            "0.6475796699523926\n",
            "0.6981186270713806\n",
            "0.4806784987449646\n",
            "0.21185651421546936\n",
            "0.6638472676277161\n",
            "0.6448787450790405\n",
            "0.5120536088943481\n",
            "0.6589515209197998\n",
            "0.2192464917898178\n",
            "0.7466031312942505\n",
            "0.6195812821388245\n",
            "0.6738947033882141\n",
            "0.6524918675422668\n",
            "0.7213727235794067\n",
            "0.7600733041763306\n",
            "0.7035809755325317\n",
            "0.6999799609184265\n",
            "0.697091281414032\n",
            "0.6421486139297485\n",
            "0.6929662227630615\n",
            "0.692736029624939\n",
            "0.6843032240867615\n",
            "0.7109264135360718\n",
            "0.5963103771209717\n",
            "0.7071799635887146\n",
            "0.6813439130783081\n",
            "0.7005395293235779\n",
            "0.7063772082328796\n",
            "0.6777975559234619\n",
            "0.6924067735671997\n",
            "0.6922662258148193\n",
            "0.7203551530838013\n",
            "0.5216459631919861\n",
            "0.7282994985580444\n",
            "0.6934970617294312\n",
            "0.6674129366874695\n",
            "0.6891384720802307\n",
            "0.6875491738319397\n",
            "0.6850971579551697\n",
            "0.689349889755249\n",
            "0.691971480846405\n",
            "0.6773006916046143\n",
            "0.6890340447425842\n",
            "0.6751110553741455\n",
            "0.6847713589668274\n",
            "0.6970196962356567\n",
            "0.7024537324905396\n",
            "0.7112383246421814\n",
            "0.6810286045074463\n",
            "0.6955389976501465\n",
            "0.6974681615829468\n",
            "0.6866772174835205\n",
            "0.7001218795776367\n",
            "0.6928362846374512\n",
            "0.7052587866783142\n",
            "0.606430172920227\n",
            "0.7000148296356201\n",
            "0.6894950866699219\n",
            "0.7000791430473328\n",
            "0.7110414505004883\n",
            "0.6862025856971741\n",
            "0.7144005298614502\n",
            "0.7167919874191284\n",
            "0.6864748597145081\n",
            "0.6942153573036194\n",
            "0.6910151839256287\n",
            "0.6799337267875671\n",
            "0.695506751537323\n",
            "0.6147280931472778\n",
            "0.6527296304702759\n",
            "0.6535061597824097\n",
            "0.6778655052185059\n",
            "0.6947885155677795\n",
            "0.6363074779510498\n",
            "0.6334032416343689\n",
            "0.6796523332595825\n",
            "0.5703123211860657\n",
            "0.6034606695175171\n"
          ],
          "name": "stdout"
        }
      ]
    },
    {
      "cell_type": "code",
      "metadata": {
        "colab": {
          "base_uri": "https://localhost:8080/",
          "height": 295
        },
        "id": "FbDnwBU-X88P",
        "outputId": "39348c2f-fcd1-4f4b-c775-69f3551f09d5"
      },
      "source": [
        "import matplotlib.pyplot as plt\n",
        " \n",
        "lossDataPointNum = range(0,len(Loss))\n",
        "plt.plot(lossDataPointNum, Loss[0:], 'g', label='Training loss')\n",
        "\n",
        "plt.title('Training')\n",
        "plt.xlabel('Per 100 training iterations')\n",
        "plt.ylabel('Loss')\n",
        "plt.legend()\n",
        "plt.savefig(rootPath+'/train_loss_'+str(INDEX)+'.png')\n",
        "plt.show()"
      ],
      "execution_count": null,
      "outputs": [
        {
          "output_type": "display_data",
          "data": {
            "image/png": "[encoded data removed]",
            "text/plain": [
              "<Figure size 432x288 with 1 Axes>"
            ]
          },
          "metadata": {
            "tags": [],
            "needs_background": "light"
          }
        }
      ]
    },
    {
      "cell_type": "code",
      "metadata": {
        "id": "_jek4txjDfeY"
      },
      "source": [
        "# from transformers import BertForSequenceClassification, Trainer, TrainingArguments\n",
        "# Model_name = 'Bert'\n",
        "# epoches = 15\n",
        "\n",
        "# training_args = TrainingArguments(\n",
        "#     output_dir='/content/drive/MyDrive/SMOTE Results/' + Model_name  +   '/Output' +'/Fold' + str(INDEX),  # output directory\n",
        "#     load_best_model_at_end  = True,   # loads the best model for testing \n",
        "#     metric_for_best_model = \"training_loss\",\n",
        "#     greater_is_better = False,     \n",
        "#     num_train_epochs=1,              # total number of training epochs\n",
        "#     per_device_train_batch_size=8,  # batch size per device during training\n",
        "#     per_device_eval_batch_size=8,   # batch size for evaluation\n",
        "#     # warmup_steps=500,                # number of warmup steps for learning rate scheduler\n",
        "#     weight_decay=0.01,               # strength of weight decay\n",
        "#     logging_dir='/content/drive/MyDrive/SMOTE Results/' + Model_name +  '/Logs'  + '/Fold' + str(INDEX) ,            # directory for storing logs\n",
        "#     logging_steps=10,\n",
        "#     fp16 = True,\n",
        "#     learning_rate= 4e-5,\n",
        "#     lr_scheduler_type = \"linear\",\n",
        "#     warmup_ratio = 0.06,\n",
        "#     save_strategy= \"no\",\n",
        "# )\n",
        "\n",
        "# model = BertForSequenceClassification.from_pretrained(\"bert-base-multilingual-cased\")\n",
        "# model.to(device)\n",
        "\n",
        "# returns = []\n",
        "# for i in range(epoches):\n",
        "#   print(\"Epoch\", i)\n",
        "\n",
        "#   for idx in range(0, len(smoteTensorList)):\n",
        "    \n",
        "#     print(\"Iteration\",idx)\n",
        "#     train_dataset = FakeNewsDataset(smoteTensorList[idx],y_list[idx],\"train\")\n",
        "#     trainer = Trainer(\n",
        "#       model=model,                         # the instantiated 🤗 Transformers model to be trained\n",
        "#       args=training_args,                  # training arguments, defined above\n",
        "#       train_dataset=train_dataset,         # training dataset\n",
        "#       # eval_dataset=val_dataset             # evaluation dataset\n",
        "#     )\n",
        "#     returns.append(trainer.train())"
      ],
      "execution_count": null,
      "outputs": []
    },
    {
      "cell_type": "code",
      "metadata": {
        "id": "-T5tOCnS3rdk"
      },
      "source": [
        "# print(len(returns))\n",
        "# print(returns)\n",
        "# train_loss = []\n",
        "# for i in range(0,len(returns)):\n",
        "#   train_loss.append(returns[i][1])\n",
        "# print(train_loss)"
      ],
      "execution_count": null,
      "outputs": []
    },
    {
      "cell_type": "code",
      "metadata": {
        "id": "HzAMbzgBvVVW",
        "colab": {
          "base_uri": "https://localhost:8080/"
        },
        "outputId": "8eb61eed-d354-4f6e-8f56-f6e8120a6091"
      },
      "source": [
        "print(len(test_labels[INDEX]))\n",
        "# print(test_encodings)\n",
        "print(test_encodings['input_ids'].shape)\n",
        "print(test_encodings['attention_mask'].shape)\n"
      ],
      "execution_count": null,
      "outputs": [
        {
          "output_type": "stream",
          "text": [
            "318\n",
            "torch.Size([318, 512])\n",
            "torch.Size([318, 512])\n"
          ],
          "name": "stdout"
        }
      ]
    },
    {
      "cell_type": "code",
      "metadata": {
        "colab": {
          "base_uri": "https://localhost:8080/"
        },
        "id": "cdWwAEIIsu6r",
        "outputId": "f5379af2-6326-490c-8283-16e489e7ef57"
      },
      "source": [
        "model.eval()\n",
        "statsList = []\n",
        "test_dataset = FakeNewsDataset(test_encodings,test_labels[INDEX],\"test\")\n",
        "test_dataloader = DataLoader(test_dataset, batch_size=16)\n",
        "idx = 0\n",
        "for batch in test_dataloader:\n",
        "      # print(\"batch no: \",idx)\n",
        "      idx += 1\n",
        "      batch = {k: v.to(device) for k, v in batch.items()}\n",
        "      with torch.no_grad():\n",
        "          outputs = model(**batch)\n",
        "          statsList.append(outputs.logits)\n"
      ],
      "execution_count": null,
      "outputs": [
        {
          "output_type": "stream",
          "text": [
            "/usr/local/lib/python3.7/dist-packages/ipykernel_launcher.py:12: UserWarning: To copy construct from a tensor, it is recommended to use sourceTensor.clone().detach() or sourceTensor.clone().detach().requires_grad_(True), rather than torch.tensor(sourceTensor).\n",
            "  if sys.path[0] == '':\n"
          ],
          "name": "stderr"
        }
      ]
    },
    {
      "cell_type": "code",
      "metadata": {
        "id": "_Vuk2vuDSVb4"
      },
      "source": [
        "resultList = []\n",
        "tempList = []\n",
        "for stat in statsList:\n",
        "  tempList.append(stat.argmax(dim=1))\n",
        "for l in tempList:\n",
        "  for label in l:\n",
        "    resultList.append(label)\n",
        "del tempList "
      ],
      "execution_count": null,
      "outputs": []
    },
    {
      "cell_type": "code",
      "metadata": {
        "id": "kyps5HKHkpSq"
      },
      "source": [
        "r=[]\n",
        "for i in range(0,len(resultList)):\n",
        "  r.append(resultList[i].tolist()) "
      ],
      "execution_count": null,
      "outputs": []
    },
    {
      "cell_type": "code",
      "metadata": {
        "colab": {
          "base_uri": "https://localhost:8080/"
        },
        "id": "11qoLu_5lZS1",
        "outputId": "05a035ac-4def-447c-f9db-6e303939bf33"
      },
      "source": [
        "print(r)\n",
        "print(resultList)"
      ],
      "execution_count": null,
      "outputs": [
        {
          "output_type": "stream",
          "text": [
            "[1, 1, 1, 1, 1, 1, 1, 1, 1, 1, 1, 1, 1, 1, 1, 1, 1, 1, 1, 1, 1, 1, 1, 1, 1, 1, 1, 1, 1, 1, 1, 1, 1, 1, 1, 1, 1, 1, 1, 1, 1, 1, 1, 1, 1, 1, 1, 1, 1, 1, 1, 1, 1, 1, 1, 1, 1, 1, 1, 1, 1, 1, 1, 1, 1, 1, 1, 1, 1, 1, 1, 1, 1, 1, 1, 1, 1, 1, 1, 1, 1, 1, 1, 1, 1, 1, 1, 1, 1, 1, 1, 1, 1, 1, 1, 1, 1, 1, 1, 1, 1, 1, 1, 1, 1, 1, 1, 1, 1, 1, 1, 1, 1, 1, 1, 1, 1, 1, 1, 1, 1, 1, 1, 1, 1, 1, 1, 1, 1, 1, 1, 1, 1, 1, 1, 1, 1, 1, 1, 1, 1, 1, 1, 1, 1, 1, 1, 1, 1, 1, 1, 1, 1, 1, 1, 1, 1, 1, 1, 1, 1, 1, 1, 1, 1, 1, 1, 1, 1, 1, 1, 1, 1, 1, 1, 1, 1, 1, 1, 1, 1, 1, 1, 1, 1, 1, 1, 1, 1, 1, 1, 1, 1, 1, 1, 1, 1, 1, 1, 1, 1, 1, 1, 1, 1, 1, 1, 1, 1, 1, 1, 1, 1, 1, 1, 1, 1, 1, 1, 1, 1, 1, 1, 1, 1, 1, 1, 1, 1, 1, 1, 1, 1, 1, 1, 1, 1, 1, 1, 1, 1, 1, 1, 1, 1, 1, 1, 1, 1, 1, 1, 1, 1, 1, 1, 1, 1, 1, 1, 1, 1, 1, 1, 1, 1, 1, 1, 1, 1, 1, 1, 1, 1, 1, 1, 1, 1, 1, 1, 1, 1, 1, 1, 1, 1, 1, 1, 1, 1, 1, 1, 1, 1, 1, 1, 1, 1, 1, 1, 1, 1, 1, 1, 1, 1, 1, 1, 1, 1, 1, 1, 1, 1, 1, 1, 1, 1, 1]\n",
            "[tensor(1, device='cuda:0'), tensor(1, device='cuda:0'), tensor(1, device='cuda:0'), tensor(1, device='cuda:0'), tensor(1, device='cuda:0'), tensor(1, device='cuda:0'), tensor(1, device='cuda:0'), tensor(1, device='cuda:0'), tensor(1, device='cuda:0'), tensor(1, device='cuda:0'), tensor(1, device='cuda:0'), tensor(1, device='cuda:0'), tensor(1, device='cuda:0'), tensor(1, device='cuda:0'), tensor(1, device='cuda:0'), tensor(1, device='cuda:0'), tensor(1, device='cuda:0'), tensor(1, device='cuda:0'), tensor(1, device='cuda:0'), tensor(1, device='cuda:0'), tensor(1, device='cuda:0'), tensor(1, device='cuda:0'), tensor(1, device='cuda:0'), tensor(1, device='cuda:0'), tensor(1, device='cuda:0'), tensor(1, device='cuda:0'), tensor(1, device='cuda:0'), tensor(1, device='cuda:0'), tensor(1, device='cuda:0'), tensor(1, device='cuda:0'), tensor(1, device='cuda:0'), tensor(1, device='cuda:0'), tensor(1, device='cuda:0'), tensor(1, device='cuda:0'), tensor(1, device='cuda:0'), tensor(1, device='cuda:0'), tensor(1, device='cuda:0'), tensor(1, device='cuda:0'), tensor(1, device='cuda:0'), tensor(1, device='cuda:0'), tensor(1, device='cuda:0'), tensor(1, device='cuda:0'), tensor(1, device='cuda:0'), tensor(1, device='cuda:0'), tensor(1, device='cuda:0'), tensor(1, device='cuda:0'), tensor(1, device='cuda:0'), tensor(1, device='cuda:0'), tensor(1, device='cuda:0'), tensor(1, device='cuda:0'), tensor(1, device='cuda:0'), tensor(1, device='cuda:0'), tensor(1, device='cuda:0'), tensor(1, device='cuda:0'), tensor(1, device='cuda:0'), tensor(1, device='cuda:0'), tensor(1, device='cuda:0'), tensor(1, device='cuda:0'), tensor(1, device='cuda:0'), tensor(1, device='cuda:0'), tensor(1, device='cuda:0'), tensor(1, device='cuda:0'), tensor(1, device='cuda:0'), tensor(1, device='cuda:0'), tensor(1, device='cuda:0'), tensor(1, device='cuda:0'), tensor(1, device='cuda:0'), tensor(1, device='cuda:0'), tensor(1, device='cuda:0'), tensor(1, device='cuda:0'), tensor(1, device='cuda:0'), tensor(1, device='cuda:0'), tensor(1, device='cuda:0'), tensor(1, device='cuda:0'), tensor(1, device='cuda:0'), tensor(1, device='cuda:0'), tensor(1, device='cuda:0'), tensor(1, device='cuda:0'), tensor(1, device='cuda:0'), tensor(1, device='cuda:0'), tensor(1, device='cuda:0'), tensor(1, device='cuda:0'), tensor(1, device='cuda:0'), tensor(1, device='cuda:0'), tensor(1, device='cuda:0'), tensor(1, device='cuda:0'), tensor(1, device='cuda:0'), tensor(1, device='cuda:0'), tensor(1, device='cuda:0'), tensor(1, device='cuda:0'), tensor(1, device='cuda:0'), tensor(1, device='cuda:0'), tensor(1, device='cuda:0'), tensor(1, device='cuda:0'), tensor(1, device='cuda:0'), tensor(1, device='cuda:0'), tensor(1, device='cuda:0'), tensor(1, device='cuda:0'), tensor(1, device='cuda:0'), tensor(1, device='cuda:0'), tensor(1, device='cuda:0'), tensor(1, device='cuda:0'), tensor(1, device='cuda:0'), tensor(1, device='cuda:0'), tensor(1, device='cuda:0'), tensor(1, device='cuda:0'), tensor(1, device='cuda:0'), tensor(1, device='cuda:0'), tensor(1, device='cuda:0'), tensor(1, device='cuda:0'), tensor(1, device='cuda:0'), tensor(1, device='cuda:0'), tensor(1, device='cuda:0'), tensor(1, device='cuda:0'), tensor(1, device='cuda:0'), tensor(1, device='cuda:0'), tensor(1, device='cuda:0'), tensor(1, device='cuda:0'), tensor(1, device='cuda:0'), tensor(1, device='cuda:0'), tensor(1, device='cuda:0'), tensor(1, device='cuda:0'), tensor(1, device='cuda:0'), tensor(1, device='cuda:0'), tensor(1, device='cuda:0'), tensor(1, device='cuda:0'), tensor(1, device='cuda:0'), tensor(1, device='cuda:0'), tensor(1, device='cuda:0'), tensor(1, device='cuda:0'), tensor(1, device='cuda:0'), tensor(1, device='cuda:0'), tensor(1, device='cuda:0'), tensor(1, device='cuda:0'), tensor(1, device='cuda:0'), tensor(1, device='cuda:0'), tensor(1, device='cuda:0'), tensor(1, device='cuda:0'), tensor(1, device='cuda:0'), tensor(1, device='cuda:0'), tensor(1, device='cuda:0'), tensor(1, device='cuda:0'), tensor(1, device='cuda:0'), tensor(1, device='cuda:0'), tensor(1, device='cuda:0'), tensor(1, device='cuda:0'), tensor(1, device='cuda:0'), tensor(1, device='cuda:0'), tensor(1, device='cuda:0'), tensor(1, device='cuda:0'), tensor(1, device='cuda:0'), tensor(1, device='cuda:0'), tensor(1, device='cuda:0'), tensor(1, device='cuda:0'), tensor(1, device='cuda:0'), tensor(1, device='cuda:0'), tensor(1, device='cuda:0'), tensor(1, device='cuda:0'), tensor(1, device='cuda:0'), tensor(1, device='cuda:0'), tensor(1, device='cuda:0'), tensor(1, device='cuda:0'), tensor(1, device='cuda:0'), tensor(1, device='cuda:0'), tensor(1, device='cuda:0'), tensor(1, device='cuda:0'), tensor(1, device='cuda:0'), tensor(1, device='cuda:0'), tensor(1, device='cuda:0'), tensor(1, device='cuda:0'), tensor(1, device='cuda:0'), tensor(1, device='cuda:0'), tensor(1, device='cuda:0'), tensor(1, device='cuda:0'), tensor(1, device='cuda:0'), tensor(1, device='cuda:0'), tensor(1, device='cuda:0'), tensor(1, device='cuda:0'), tensor(1, device='cuda:0'), tensor(1, device='cuda:0'), tensor(1, device='cuda:0'), tensor(1, device='cuda:0'), tensor(1, device='cuda:0'), tensor(1, device='cuda:0'), tensor(1, device='cuda:0'), tensor(1, device='cuda:0'), tensor(1, device='cuda:0'), tensor(1, device='cuda:0'), tensor(1, device='cuda:0'), tensor(1, device='cuda:0'), tensor(1, device='cuda:0'), tensor(1, device='cuda:0'), tensor(1, device='cuda:0'), tensor(1, device='cuda:0'), tensor(1, device='cuda:0'), tensor(1, device='cuda:0'), tensor(1, device='cuda:0'), tensor(1, device='cuda:0'), tensor(1, device='cuda:0'), tensor(1, device='cuda:0'), tensor(1, device='cuda:0'), tensor(1, device='cuda:0'), tensor(1, device='cuda:0'), tensor(1, device='cuda:0'), tensor(1, device='cuda:0'), tensor(1, device='cuda:0'), tensor(1, device='cuda:0'), tensor(1, device='cuda:0'), tensor(1, device='cuda:0'), tensor(1, device='cuda:0'), tensor(1, device='cuda:0'), tensor(1, device='cuda:0'), tensor(1, device='cuda:0'), tensor(1, device='cuda:0'), tensor(1, device='cuda:0'), tensor(1, device='cuda:0'), tensor(1, device='cuda:0'), tensor(1, device='cuda:0'), tensor(1, device='cuda:0'), tensor(1, device='cuda:0'), tensor(1, device='cuda:0'), tensor(1, device='cuda:0'), tensor(1, device='cuda:0'), tensor(1, device='cuda:0'), tensor(1, device='cuda:0'), tensor(1, device='cuda:0'), tensor(1, device='cuda:0'), tensor(1, device='cuda:0'), tensor(1, device='cuda:0'), tensor(1, device='cuda:0'), tensor(1, device='cuda:0'), tensor(1, device='cuda:0'), tensor(1, device='cuda:0'), tensor(1, device='cuda:0'), tensor(1, device='cuda:0'), tensor(1, device='cuda:0'), tensor(1, device='cuda:0'), tensor(1, device='cuda:0'), tensor(1, device='cuda:0'), tensor(1, device='cuda:0'), tensor(1, device='cuda:0'), tensor(1, device='cuda:0'), tensor(1, device='cuda:0'), tensor(1, device='cuda:0'), tensor(1, device='cuda:0'), tensor(1, device='cuda:0'), tensor(1, device='cuda:0'), tensor(1, device='cuda:0'), tensor(1, device='cuda:0'), tensor(1, device='cuda:0'), tensor(1, device='cuda:0'), tensor(1, device='cuda:0'), tensor(1, device='cuda:0'), tensor(1, device='cuda:0'), tensor(1, device='cuda:0'), tensor(1, device='cuda:0'), tensor(1, device='cuda:0'), tensor(1, device='cuda:0'), tensor(1, device='cuda:0'), tensor(1, device='cuda:0'), tensor(1, device='cuda:0'), tensor(1, device='cuda:0'), tensor(1, device='cuda:0'), tensor(1, device='cuda:0'), tensor(1, device='cuda:0'), tensor(1, device='cuda:0'), tensor(1, device='cuda:0'), tensor(1, device='cuda:0'), tensor(1, device='cuda:0'), tensor(1, device='cuda:0'), tensor(1, device='cuda:0'), tensor(1, device='cuda:0'), tensor(1, device='cuda:0'), tensor(1, device='cuda:0'), tensor(1, device='cuda:0'), tensor(1, device='cuda:0'), tensor(1, device='cuda:0'), tensor(1, device='cuda:0'), tensor(1, device='cuda:0'), tensor(1, device='cuda:0'), tensor(1, device='cuda:0'), tensor(1, device='cuda:0'), tensor(1, device='cuda:0'), tensor(1, device='cuda:0'), tensor(1, device='cuda:0'), tensor(1, device='cuda:0'), tensor(1, device='cuda:0'), tensor(1, device='cuda:0'), tensor(1, device='cuda:0'), tensor(1, device='cuda:0'), tensor(1, device='cuda:0'), tensor(1, device='cuda:0'), tensor(1, device='cuda:0'), tensor(1, device='cuda:0'), tensor(1, device='cuda:0'), tensor(1, device='cuda:0'), tensor(1, device='cuda:0'), tensor(1, device='cuda:0'), tensor(1, device='cuda:0'), tensor(1, device='cuda:0'), tensor(1, device='cuda:0'), tensor(1, device='cuda:0'), tensor(1, device='cuda:0'), tensor(1, device='cuda:0'), tensor(1, device='cuda:0'), tensor(1, device='cuda:0'), tensor(1, device='cuda:0'), tensor(1, device='cuda:0'), tensor(1, device='cuda:0'), tensor(1, device='cuda:0'), tensor(1, device='cuda:0'), tensor(1, device='cuda:0'), tensor(1, device='cuda:0'), tensor(1, device='cuda:0'), tensor(1, device='cuda:0'), tensor(1, device='cuda:0'), tensor(1, device='cuda:0'), tensor(1, device='cuda:0')]\n"
          ],
          "name": "stdout"
        }
      ]
    },
    {
      "cell_type": "code",
      "metadata": {
        "id": "vpQiQyErVKzn"
      },
      "source": [
        "from sklearn.metrics import accuracy_score, recall_score, f1_score, confusion_matrix, precision_score\n",
        "acc = accuracy_score(test_labels[INDEX],r)\n",
        "recall = recall_score(test_labels[INDEX],r)\n",
        "f1 = f1_score(test_labels[INDEX],r)\n",
        "precision = precision_score(test_labels[INDEX],r)\n",
        "tn, fp, fn, tp = confusion_matrix(test_labels[INDEX],r).reshape(-1)"
      ],
      "execution_count": null,
      "outputs": []
    },
    {
      "cell_type": "code",
      "metadata": {
        "colab": {
          "base_uri": "https://localhost:8080/"
        },
        "id": "Jpvk6sLN-Et_",
        "outputId": "8420bbc9-7724-49f4-ab0c-407d8662e8e1"
      },
      "source": [
        "print(acc)\n",
        "print(recall)\n",
        "print(f1)\n",
        "print(precision)\n",
        "print(tp, fn, fp, tn)\n"
      ],
      "execution_count": null,
      "outputs": [
        {
          "output_type": "stream",
          "text": [
            "0.8113207547169812\n",
            "1.0\n",
            "0.8958333333333334\n",
            "0.8113207547169812\n",
            "258 0 60 0\n"
          ],
          "name": "stdout"
        }
      ]
    },
    {
      "cell_type": "code",
      "metadata": {
        "id": "V_eaOP8JvLCM"
      },
      "source": [
        "pickle.dump(model, open(rootPath + 'Models/' + Model_name + str(INDEX)+'.pkl', 'wb'))"
      ],
      "execution_count": null,
      "outputs": []
    },
    {
      "cell_type": "code",
      "metadata": {
        "id": "X39OaQs18xjO",
        "colab": {
          "base_uri": "https://localhost:8080/"
        },
        "outputId": "99ed5990-5688-4959-bb34-1c0e13008471"
      },
      "source": [
        "# if INDEX == 0:\n",
        "#   df = pd.read_csv(rootPath + 'Init.csv',encoding='utf-8')\n",
        "\n",
        "df = pd.read_csv(rootPath +  Model_name +  'Result.csv',encoding='utf-8')\n",
        "\n",
        "print(df)\n",
        "\n",
        "data = {'Fold No': str(INDEX), 'Accuracy':acc, 'Recall':recall, 'Precision':precision, 'F1_Score':f1,\n",
        "          'TP':tp, 'TN':tn, 'FP':fp, 'FN':fn }\n",
        "\n",
        "df=df.append(data,ignore_index=True,sort=False)\n",
        "print(df)\n",
        "\n",
        "\n",
        "df.to_csv(rootPath + Model_name +   'Result.csv', index=False, encoding='utf-8')\n"
      ],
      "execution_count": null,
      "outputs": [
        {
          "output_type": "stream",
          "text": [
            "   Fold No  Accuracy    Recall  Precision  F1_Score   TP  TN  FP   FN\n",
            "0        0  0.811912  1.000000   0.811912  0.896194  259   0  60    0\n",
            "1        1  0.191223  0.034749   0.529412  0.065217    9  52   8  250\n",
            "2        2  0.188088  0.000000   0.000000  0.000000    0  60   0  259\n",
            "  Fold No  Accuracy    Recall  Precision  F1_Score   TP  TN  FP   FN\n",
            "0       0  0.811912  1.000000   0.811912  0.896194  259   0  60    0\n",
            "1       1  0.191223  0.034749   0.529412  0.065217    9  52   8  250\n",
            "2       2  0.188088  0.000000   0.000000  0.000000    0  60   0  259\n",
            "3       9  0.811321  1.000000   0.811321  0.895833  258   0  60    0\n"
          ],
          "name": "stdout"
        }
      ]
    }
  ]
}